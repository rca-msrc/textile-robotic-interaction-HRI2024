{
 "cells": [
  {
   "cell_type": "code",
   "execution_count": 549,
   "id": "e41f4f72-1209-4e37-b777-8a58857c42b7",
   "metadata": {},
   "outputs": [],
   "source": [
    "import sys\n",
    "import math\n",
    "import time\n",
    "import queue\n",
    "import datetime\n",
    "import random\n",
    "import traceback\n",
    "import threading\n",
    "# xarm api\n",
    "from xarm import version\n",
    "from xarm.wrapper import XArmAPI"
   ]
  },
  {
   "cell_type": "code",
   "execution_count": 550,
   "id": "e75a3486-4181-41ea-a2fa-7b6ba6f4fbcc",
   "metadata": {},
   "outputs": [
    {
     "name": "stdout",
     "output_type": "stream",
     "text": [
      "ROBOT_IP: 192.168.1.225, VERSION: v1.11.1, PROTOCOL: V1, DETAIL: 7,7,XS1303,AC1301,v1.11.1, TYPE1300: [1, 1]\n",
      "change protocol identifier to 3\n",
      "ROBOT_IP: 192.168.1.244, VERSION: v1.9.0, PROTOCOL: V1, DETAIL: 7,7,XS1303,AC1300,v1.9.0, TYPE1300: [1, 1]\n",
      "change protocol identifier to 3\n"
     ]
    }
   ],
   "source": [
    "left_arm_api = XArmAPI('192.168.1.225', baud_checkset=False)\n",
    "right_arm_api = XArmAPI('192.168.1.244', baud_checkset=False)"
   ]
  },
  {
   "cell_type": "code",
   "execution_count": 551,
   "id": "580fb88b-b522-465e-ba50-218bcfba8a99",
   "metadata": {},
   "outputs": [
    {
     "name": "stdout",
     "output_type": "stream",
     "text": [
      "[motion_enable], xArm is not ready to move\n",
      "[set_state], xArm is ready to move\n",
      "[clean_error], xArm is not ready to move\n",
      "[motion_enable], xArm is not ready to move\n",
      "[set_state], xArm is ready to move\n"
     ]
    }
   ],
   "source": [
    "left_robot = RobotMain(left_arm_api)\n",
    "right_robot = RobotMain(right_arm_api)"
   ]
  },
  {
   "cell_type": "code",
   "execution_count": 217,
   "id": "695af596-d21c-47e8-924a-c707965ed3c4",
   "metadata": {},
   "outputs": [],
   "source": [
    "right_zero_position = [\n",
    "    206, # X\n",
    "    0, # Y\n",
    "    0, # Z\n",
    "    180, # Rx,\n",
    "    0, # Ry\n",
    "    0 # Rz\n",
    "]\n",
    "left_zero_position = [\n",
    "    200, # X\n",
    "    0, # Y\n",
    "    200, # Z\n",
    "    180, # Rx,\n",
    "    0, # Ry\n",
    "    0 # Rz\n",
    "]"
   ]
  },
  {
   "cell_type": "markdown",
   "id": "a02a11ca-976b-405f-beed-1f85349d7b99",
   "metadata": {},
   "source": [
    "### Left Robot\n",
    "\n",
    "Left Robot: http://192.168.1.225:18333"
   ]
  },
  {
   "cell_type": "code",
   "execution_count": 7,
   "id": "97e694e5-9fea-4838-8cd0-2090ccb97876",
   "metadata": {},
   "outputs": [],
   "source": [
    "l_right_edge_x = 390 # mm to right edge (approx)"
   ]
  },
  {
   "cell_type": "code",
   "execution_count": 13,
   "id": "c178e34f-5efd-43d1-bcf2-f458d02c0c08",
   "metadata": {},
   "outputs": [],
   "source": [
    "l_center_x = 633 # mm center of block (approx)\n",
    "l_center_edge_x = 600 # edge of robot in line with center"
   ]
  },
  {
   "cell_type": "code",
   "execution_count": 18,
   "id": "2a9fb011-5c23-45fa-949d-3d3891cb261f",
   "metadata": {},
   "outputs": [],
   "source": [
    "l_surface_wrist_z = 68"
   ]
  },
  {
   "cell_type": "markdown",
   "id": "690d6453-019e-4a6c-9bb3-bd6072ef178e",
   "metadata": {},
   "source": [
    "### Right Robot\n",
    "\n",
    "Right Robot: http://192.168.1.244:18333"
   ]
  },
  {
   "cell_type": "code",
   "execution_count": 9,
   "id": "00c88f77-2656-4a1b-a127-686311ed17a3",
   "metadata": {},
   "outputs": [],
   "source": [
    "r_left_edge_x = 367 # mm to left edge (approx)"
   ]
  },
  {
   "cell_type": "code",
   "execution_count": 15,
   "id": "bcfebd45-effd-40c0-8125-128f4880a5db",
   "metadata": {},
   "outputs": [],
   "source": [
    "r_center_x = 588 # mm center of block (approx)\n",
    "r_center_edge_x = 555 # edge of robot in line with center"
   ]
  },
  {
   "cell_type": "code",
   "execution_count": 16,
   "id": "39a783fd-557f-4e1f-8f93-cf25d3bc8501",
   "metadata": {},
   "outputs": [],
   "source": [
    "r_surface_wrist_z = 64"
   ]
  },
  {
   "cell_type": "code",
   "execution_count": 43,
   "id": "9f03a26e-d007-4f32-8372-0c4e836a1c16",
   "metadata": {},
   "outputs": [
    {
     "name": "stdout",
     "output_type": "stream",
     "text": [
      "[clean_error], xArm is not ready to move\n",
      "[motion_enable], xArm is not ready to move\n",
      "[set_state], xArm is ready to move\n",
      "[clean_error], xArm is not ready to move\n",
      "[motion_enable], xArm is not ready to move\n",
      "[set_state], xArm is ready to move\n"
     ]
    }
   ],
   "source": [
    "# Test \n",
    "left_robot = RobotMain(left_arm_api)\n",
    "right_robot = RobotMain(right_arm_api)"
   ]
  },
  {
   "cell_type": "code",
   "execution_count": 47,
   "id": "e84d4e01-aae7-4c8a-a220-c6d54163d257",
   "metadata": {},
   "outputs": [
    {
     "name": "stdout",
     "output_type": "stream",
     "text": [
      "[clean_error], xArm is not ready to move\n",
      "[motion_enable], xArm is not ready to move\n",
      "[set_state], xArm is ready to move\n"
     ]
    }
   ],
   "source": [
    "left_robot._robot_init()"
   ]
  },
  {
   "cell_type": "code",
   "execution_count": 48,
   "id": "c3b6f0b9-2ee3-44c9-b595-341d6d2e8efe",
   "metadata": {},
   "outputs": [
    {
     "name": "stdout",
     "output_type": "stream",
     "text": [
      "(0, [256.834778, 54.244919, 411.988007, -179.593506, -17.735565, 11.428503]) (0, [256.834778, 54.244919, 411.988007, -3.134498, -0.309544, 0.199465])\n"
     ]
    }
   ],
   "source": [
    "print(left_arm_api.get_position(), left_arm_api.get_position(is_radian=True))"
   ]
  },
  {
   "cell_type": "code",
   "execution_count": 49,
   "id": "62f28e9d-4855-471d-b48e-91c80941ce13",
   "metadata": {},
   "outputs": [
    {
     "data": {
      "text/plain": [
       "0"
      ]
     },
     "execution_count": 49,
     "metadata": {},
     "output_type": "execute_result"
    }
   ],
   "source": [
    "left_arm_api.set_position(x=400, y=0, z=600, roll=-180, pitch=0, yaw=0, speed=100, wait=True)"
   ]
  },
  {
   "cell_type": "code",
   "execution_count": 64,
   "id": "d2ea615c-b091-4aee-9819-0722b0fd1ca5",
   "metadata": {},
   "outputs": [
    {
     "name": "stdout",
     "output_type": "stream",
     "text": [
      "[clean_error], xArm is not ready to move\n",
      "[motion_enable], xArm is not ready to move\n",
      "[set_state], xArm is ready to move\n",
      "[2023-07-18 14:20:20][81] Move   0: [400, 0, 400, -180, 0, 0]\n",
      "[2023-07-18 14:20:21][85] (0) ----> [400.0, -0.0, 400.00061, 180.00002, 0.0, -0.0]\n",
      "[2023-07-18 14:20:21][81] Move   1: [400, 0, 600, -180, 0, 0]\n",
      "[2023-07-18 14:20:23][85] (0) ----> [400.0, -0.0, 599.99939, 180.00002, 0.0, 0.0]\n",
      "[2023-07-18 14:20:23][81] Move   2: [400, 0, 400, -180, 0, 0]\n",
      "[2023-07-18 14:20:25][85] (0) ----> [400.0, -0.0, 400.00061, 180.00002, 0.0, -0.0]\n"
     ]
    }
   ],
   "source": [
    "left_robot = RobotMain(left_arm_api)\n",
    "test_pos0 = [400, 0, 400, -180, 0, 0]\n",
    "test_pos1 = [400, 0, 600, -180, 0, 0]\n",
    "left_robot.linear_move([test_pos0,test_pos1,test_pos0])"
   ]
  },
  {
   "cell_type": "code",
   "execution_count": 135,
   "id": "e912959a-5590-4b6e-812c-7c31b70b1b4a",
   "metadata": {},
   "outputs": [
    {
     "name": "stdout",
     "output_type": "stream",
     "text": [
      "[clean_error], xArm is not ready to move\n",
      "[motion_enable], xArm is not ready to move\n",
      "[set_state], xArm is ready to move\n"
     ]
    }
   ],
   "source": [
    "left_robot = RobotMain(left_arm_api)"
   ]
  },
  {
   "cell_type": "markdown",
   "id": "f629a289-b4b8-45a6-b6a5-771560d63882",
   "metadata": {},
   "source": [
    "#### Setting the Holding Position"
   ]
  },
  {
   "cell_type": "code",
   "execution_count": 245,
   "id": "cbefc887-cc18-483a-85b7-e663c52dc42f",
   "metadata": {},
   "outputs": [
    {
     "name": "stdout",
     "output_type": "stream",
     "text": [
      "[clean_error], xArm is not ready to move\n",
      "[motion_enable], xArm is not ready to move\n",
      "[set_state], xArm is ready to move\n"
     ]
    }
   ],
   "source": [
    "left_robot = RobotMain(left_arm_api)"
   ]
  },
  {
   "cell_type": "code",
   "execution_count": 116,
   "id": "0abe5b6d-0f03-45ff-908a-eee16e94b6f6",
   "metadata": {},
   "outputs": [
    {
     "data": {
      "text/plain": [
       "(0, [392.127075, -0.006847, 870.359192, -179.998186, -68.934386, -0.001261])"
      ]
     },
     "execution_count": 116,
     "metadata": {},
     "output_type": "execute_result"
    }
   ],
   "source": [
    "left_robot._arm.get_position()"
   ]
  },
  {
   "cell_type": "code",
   "execution_count": 224,
   "id": "b9d0ff70-0147-46f1-9d97-7ab0dba9b87c",
   "metadata": {},
   "outputs": [
    {
     "name": "stdout",
     "output_type": "stream",
     "text": [
      "[2023-07-18 16:48:21][79] Robot is already alive: False\n",
      "[2023-07-18 16:48:21][81] Move   0: [440, 0, 840, -180, -70, 0]\n",
      "[2023-07-18 16:48:28][50] set_position, code=0, connected=True, state=2, error=0, ret1=(0, 2). ret2=(0, [0, 0])\n",
      "[2023-07-18 16:48:28][84] (0) ----> [439.999786, 0.0, 839.999451, 180.00002, -69.999915, -0.0]\n"
     ]
    }
   ],
   "source": [
    "pinch_pos = [440, 0, 840, -180, -70, 0]\n",
    "left_robot.linear_move([pinch_pos])"
   ]
  },
  {
   "cell_type": "code",
   "execution_count": 244,
   "id": "5b78c65b-58c2-41ae-ad7b-f5f0687053f1",
   "metadata": {},
   "outputs": [],
   "source": [
    "left_robot.open_gripper()"
   ]
  },
  {
   "cell_type": "code",
   "execution_count": 246,
   "id": "f4e8cdd9-24da-40e2-9b25-a30422308ece",
   "metadata": {},
   "outputs": [],
   "source": [
    "left_robot.close_gripper()"
   ]
  },
  {
   "cell_type": "code",
   "execution_count": 369,
   "id": "1b64b3be-a5ac-4fb6-95a6-62335c016c97",
   "metadata": {},
   "outputs": [
    {
     "name": "stdout",
     "output_type": "stream",
     "text": [
      "[2023-07-18 18:37:18][81] Move   0: [200, 0, 200, 180, 0, 0]\n",
      "[2023-07-18 18:37:25][84] (0) ----> [200.000198, -0.0, 200.000565, -180.00002, -5.7e-05, -0.0]\n",
      "ControllerError, code: 1\n",
      "[2023-07-18 18:37:32][30] err=1, quit\n",
      "[2023-07-18 18:37:32][37] state=4, quit\n",
      "[SDK][ERROR][2023-07-18 18:37:37][base.py:168] - - [report-socket] socket read timeout\n",
      "[SDK][ERROR][2023-07-18 18:42:53][base.py:93] - - [main-socket] send error: [Errno 32] Broken pipe\n",
      "[SDK][ERROR][2023-07-18 18:42:55][base.py:1179] - - report thread is break, connected=False, failed_cnts=15\n"
     ]
    }
   ],
   "source": [
    "left_robot.linear_move([left_zero_position], speed=100)"
   ]
  },
  {
   "cell_type": "markdown",
   "id": "dd8251ab-2072-4097-aa32-8577270449ef",
   "metadata": {},
   "source": [
    "#### Scanning Moves"
   ]
  },
  {
   "cell_type": "code",
   "execution_count": 247,
   "id": "2700ff93-882b-4f3c-bd9e-f6915c08d415",
   "metadata": {},
   "outputs": [
    {
     "name": "stdout",
     "output_type": "stream",
     "text": [
      "[clean_error], xArm is not ready to move\n",
      "[motion_enable], xArm is not ready to move\n",
      "[set_state], xArm is ready to move\n"
     ]
    }
   ],
   "source": [
    "right_robot = RobotMain(right_arm_api)"
   ]
  },
  {
   "cell_type": "code",
   "execution_count": 161,
   "id": "a71985d5-06ee-4e30-b976-a8796a700184",
   "metadata": {},
   "outputs": [
    {
     "data": {
      "text/plain": [
       "(0, [541.461304, -21.000025, 703.26062, 101.160053, -5.393023, 87.484926])"
      ]
     },
     "execution_count": 161,
     "metadata": {},
     "output_type": "execute_result"
    }
   ],
   "source": [
    "right_robot._arm.get_position()"
   ]
  },
  {
   "cell_type": "code",
   "execution_count": 150,
   "id": "d8eb65f8-6d23-4a52-b2bb-6abcc07ab03c",
   "metadata": {},
   "outputs": [
    {
     "name": "stdout",
     "output_type": "stream",
     "text": [
      "[2023-07-18 15:06:17][81] Move   0: [432.941071, 20.0, 796.761169, 109.221283, 14.045487, 83.484363]\n",
      "[2023-07-18 15:06:17][85] (0) ----> [432.941071, 20.0, 796.761169, 109.221283, 14.045487, 83.484363]\n",
      "[2023-07-18 15:06:17][81] Move   1: [388.289124, 20.000069, 266.444061, 70.856545, 7.016728, 76.194277]\n",
      "[2023-07-18 15:06:23][85] (0) ----> [388.289124, 20.000082, 266.444122, 70.856545, 7.016728, 76.194277]\n",
      "[2023-07-18 15:06:23][81] Move   2: [432.941071, 20.0, 796.761169, 109.221283, 14.045487, 83.484363]\n",
      "[2023-07-18 15:06:29][85] (0) ----> [432.941071, 20.0, 796.761169, 109.221283, 14.045487, 83.484363]\n",
      "ControllerError, code: 34\n",
      "[2023-07-18 15:23:16][30] err=34, quit\n",
      "ControllerError had clean\n"
     ]
    }
   ],
   "source": [
    "top_pos = [432.941071, 20.0, 796.761169, 109.221283, 14.045487, 83.484363]\n",
    "bot_pos = [388.289124, 20.000069, 266.444061, 70.856545, 7.016728, 76.194277]\n",
    "right_robot.linear_move([top_pos, bot_pos, top_pos])"
   ]
  },
  {
   "cell_type": "code",
   "execution_count": 156,
   "id": "e140193a-0444-4bf4-befc-c2c3d8152b81",
   "metadata": {},
   "outputs": [],
   "source": [
    "bot_right = [515,-238,457,105,9,132]\n",
    "bot_center = [480, -30, 392, 98, 7, 89]\n",
    "bot_left = [639, 127, 375, 102, -3, 10]\n",
    "top_left = [617,56,664,101,-0.7, 27.4]\n",
    "top_center = [537,-21,674,101, -5.4, 87.5]\n",
    "top_right = [528,-117,713,114,3.6,138.5]"
   ]
  },
  {
   "cell_type": "code",
   "execution_count": null,
   "id": "3f92e1a1-5037-4be8-9335-d6485c774865",
   "metadata": {},
   "outputs": [],
   "source": []
  },
  {
   "cell_type": "code",
   "execution_count": null,
   "id": "96e27d52-dbee-49f4-8a60-822b883c472e",
   "metadata": {},
   "outputs": [],
   "source": []
  },
  {
   "cell_type": "markdown",
   "id": "802161b3-edec-4b42-a91f-a03eb3b10482",
   "metadata": {},
   "source": [
    "### Scanning Positions (Right Robot)"
   ]
  },
  {
   "cell_type": "markdown",
   "id": "1b5787f4-9588-4281-a6bc-747db872eaf3",
   "metadata": {},
   "source": [
    "#### Left Robot"
   ]
  },
  {
   "cell_type": "code",
   "execution_count": 528,
   "id": "ea446db6-af7f-44b4-8995-43bcc46b75d8",
   "metadata": {},
   "outputs": [
    {
     "data": {
      "text/plain": [
       "(0, [479.599762, 44.406013, 840.000122, 179.999848, -69.999973, 0.000115])"
      ]
     },
     "execution_count": 528,
     "metadata": {},
     "output_type": "execute_result"
    }
   ],
   "source": [
    "left_robot._arm.get_position()"
   ]
  },
  {
   "cell_type": "code",
   "execution_count": 406,
   "id": "41c2660c-21c5-4988-b3f8-f3c78c4688ca",
   "metadata": {},
   "outputs": [],
   "source": [
    "pinch_pos = [479.599762, 44.4063, 839.999634, 179.999963, -69.999973, 0]"
   ]
  },
  {
   "cell_type": "code",
   "execution_count": 408,
   "id": "ff61f74a-a7f8-4304-b667-7acaedf6faad",
   "metadata": {},
   "outputs": [
    {
     "name": "stdout",
     "output_type": "stream",
     "text": [
      "[2023-07-19 13:07:14][79] Robot is already alive: False\n",
      "[2023-07-19 13:07:14][81] Move   0: [479.599762, 44.4063, 839.999634, 179.999963, -69.999973, 0]\n",
      "[2023-07-19 13:07:14][50] set_position, code=0, connected=True, state=2, error=0, ret1=(0, 2). ret2=(0, [0, 0])\n",
      "[2023-07-19 13:07:14][84] (0) ----> [479.599762, 44.406013, 840.000122, 179.999848, -69.999973, 0.000115]\n",
      "ControllerError, code: 21ControllerError, code: 21\n",
      "\n",
      "ControllerError had cleanControllerError had clean\n",
      "\n",
      "ControllerError, code: 21ControllerError, code: 21\n",
      "\n",
      "ControllerError had cleanControllerError had clean\n",
      "\n"
     ]
    }
   ],
   "source": [
    "left_robot.linear_move([pinch_pos], speed=100)"
   ]
  },
  {
   "cell_type": "markdown",
   "id": "4165fc05-141f-4212-9ab7-bd2f1ca1ee52",
   "metadata": {},
   "source": [
    "#### Robot Positions"
   ]
  },
  {
   "cell_type": "code",
   "execution_count": 435,
   "id": "fc2a653b-80e2-41cf-87fb-7efc57bdca37",
   "metadata": {},
   "outputs": [],
   "source": [
    "top_center_close = [478.501587, 5.682164, 695.844788, -106.91232, -3.167826, -94.963687]\n",
    "\n",
    "center_center_close = [496.765289, -2.239839, 519.205505, -103.403527, 0.448626, -91.73209]\n",
    "\n",
    "center_left_close = [639.464722, 28.043819, 496.917847, -90.127923, 2.532989, -176.475298]\n",
    "\n",
    "center_right_close = [532.332581, -124.216591, 519.204163, -91.173571, -1.023016, -3.77837]\n",
    "\n",
    "top_center_mid = [428.701965, 5.682153, 695.844788, -98.812416, -3.849532, -92.530048] # 5cm -x dir\n",
    "\n",
    "center_center_mid = [447.926514, -2.239841, 519.205505, -103.34308, -1.550137, -91.732663]\n",
    "\n",
    "center_left_mid = [615.916809, 77.506714, 496.917603, -90.127865, 2.532932, -165.47554]\n",
    "\n",
    "center_right_mid = [532.33252, -176.839905, 519.203979, -91.173571, -1.023016, -3.77837]\n",
    "\n",
    "center_center = [390.826996, -2.239847, 519.205505, -103.282518, -3.548614, -91.735356]\n",
    "\n",
    "center_center_down = [390.826996, -2.239847, 519.205505, -171.807812, -2.916756, -87.335613]\n",
    "\n",
    "center_center_up = [390.826996, -2.239846, 519.205505, -57.925174, -6.232348, -92.114138]\n",
    "\n",
    "top_center = [380.611633, 5.682147, 695.844788, -98.772767, -4.736012, -92.533028]\n",
    "\n",
    "center_left = [615.916809, 130.79837, 496.917603, -89.364456, -3.19126, -168.471994]\n",
    "\n",
    "center_right = [490.284393, -226.00264, 519.203796, -91.173456, -1.023016, -16.237567]\n",
    "\n",
    "center_center_far = [390.826996, -2.239847, 519.205505, -103.282518, -3.548614, -91.735356]\n",
    "\n",
    "center_left_far = [490.284393, -226.00264, 519.203796, -91.173456, -1.023016, -16.237567]\n",
    "\n",
    "center_right_far = [431.683014, -326.67807, 519.202881, -92.135051, -3.682801, -24.985028]\n",
    "\n",
    "top_center_far = [279.753265, 5.682115, 759.225586, -108.944201, -5.107804, -91.658064]\n",
    "\n",
    "center_center_super_far = [132.933121, 5.681428, 552.347168, -91.647006, -3.493209, -91.356459]\n",
    "\n",
    "center_center_super_far_down = [132.933136, 5.68113, 552.347107, -146.378283, -3.126172, -87.933265]\n",
    "\n",
    "top_center_super_far = [132.93309, 5.681316, 702.554382, -91.889883, -3.498881, -91.341677]\n",
    "\n",
    "top_center_super_far_down = [132.93309, 5.681316, 702.554382, -154.184432, -2.816775, -87.528012]"
   ]
  },
  {
   "cell_type": "code",
   "execution_count": 553,
   "id": "20fa66b3-7367-41c5-8aa8-8d4704cdafe5",
   "metadata": {},
   "outputs": [],
   "source": [
    "center_center_far = [390.826996, -2.239847, 519.205505, -103.282518, -3.548614, -91.735356]"
   ]
  },
  {
   "cell_type": "code",
   "execution_count": 545,
   "id": "dc79b783-7b0c-42da-bdce-d06ce4006034",
   "metadata": {},
   "outputs": [],
   "source": [
    "top_center = [380.611633, 5.682147, 695.844788, -98.772767, -4.736012, -92.533028]"
   ]
  },
  {
   "cell_type": "code",
   "execution_count": 546,
   "id": "341ea02f-6da5-4169-9b1d-746f168cc556",
   "metadata": {},
   "outputs": [],
   "source": [
    "center_left_far = [490.284393, -226.00264, 519.203796, -91.173456, -1.023016, -16.237567]"
   ]
  },
  {
   "cell_type": "code",
   "execution_count": 559,
   "id": "d1e83dea-09e0-4b2c-a0d3-be2b312a1098",
   "metadata": {},
   "outputs": [],
   "source": [
    "center_left = [615.916809, 130.79837, 496.917603, -89.364456, -3.19126, -168.471994]"
   ]
  },
  {
   "cell_type": "code",
   "execution_count": 561,
   "id": "d5c562ca-d078-46c0-ba12-9fdc55589ab0",
   "metadata": {},
   "outputs": [
    {
     "name": "stdout",
     "output_type": "stream",
     "text": [
      "[2023-07-19 17:58:33][79] Robot is already alive: False\n",
      "[2023-07-19 17:58:33][81] Move   0: [615.916809, 130.79837, 496.917603, -89.364456, -3.19126, -168.471994]\n",
      "[2023-07-19 17:58:38][50] set_position, code=0, connected=True, state=2, error=0, ret1=(0, 2). ret2=(0, [0, 0])\n",
      "[2023-07-19 17:58:38][84] (0) ----> [615.916809, 130.79837, 496.917603, -89.364456, -3.19126, -168.471994]\n",
      "ControllerError, code: 21\n",
      "ControllerError had clean\n",
      "ControllerError, code: 21\n",
      "ControllerError had clean\n",
      "ControllerError, code: 21\n",
      "ControllerError had clean\n",
      "ControllerError, code: 21\n",
      "ControllerError had clean\n",
      "ControllerError, code: 21\n",
      "ControllerError had clean\n",
      "ControllerError, code: 21\n",
      "ControllerError had clean\n",
      "ControllerError, code: 21\n",
      "ControllerError had clean\n"
     ]
    }
   ],
   "source": [
    "right_robot.linear_move([center_left], speed=100)"
   ]
  },
  {
   "cell_type": "code",
   "execution_count": null,
   "id": "f4bb5cf7-c326-434e-b33e-1cee2a0e0669",
   "metadata": {},
   "outputs": [],
   "source": [
    "center_right = [490.284393, -226.00264, 519.203796, -91.173456, -1.023016, -16.237567]"
   ]
  },
  {
   "cell_type": "code",
   "execution_count": 556,
   "id": "003490be-0ef9-4034-a583-575c4a988e41",
   "metadata": {},
   "outputs": [],
   "source": [
    "center_right_far = [431.683014, -326.67807, 519.202881, -92.135051, -3.682801, -24.985028]"
   ]
  },
  {
   "cell_type": "code",
   "execution_count": null,
   "id": "2ed9e27e-873c-443b-ad23-10666ee03a55",
   "metadata": {},
   "outputs": [],
   "source": []
  },
  {
   "cell_type": "code",
   "execution_count": null,
   "id": "2023be3b-a2c3-422b-9001-f048ece91ff8",
   "metadata": {},
   "outputs": [],
   "source": []
  }
 ],
 "metadata": {
  "kernelspec": {
   "display_name": "Python 3 (ipykernel)",
   "language": "python",
   "name": "python3"
  },
  "language_info": {
   "codemirror_mode": {
    "name": "ipython",
    "version": 3
   },
   "file_extension": ".py",
   "mimetype": "text/x-python",
   "name": "python",
   "nbconvert_exporter": "python",
   "pygments_lexer": "ipython3",
   "version": "3.11.3"
  }
 },
 "nbformat": 4,
 "nbformat_minor": 5
}
