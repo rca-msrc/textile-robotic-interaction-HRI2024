{
 "cells": [
  {
   "cell_type": "code",
   "execution_count": 846,
   "id": "5259dc33-989e-498c-b6cb-7a2e5c539273",
   "metadata": {},
   "outputs": [],
   "source": [
    "import sys\n",
    "import math\n",
    "import time\n",
    "import queue\n",
    "import datetime\n",
    "import random\n",
    "import traceback\n",
    "import threading\n",
    "# xarm api\n",
    "from xarm import version\n",
    "from xarm.wrapper import XArmAPI\n",
    "# \n",
    "from robot import Robot"
   ]
  },
  {
   "cell_type": "code",
   "execution_count": 847,
   "id": "60f7dd13-39f3-4677-9406-325b2cc98257",
   "metadata": {},
   "outputs": [
    {
     "name": "stdout",
     "output_type": "stream",
     "text": [
      "ROBOT_IP: 192.168.1.225, VERSION: v1.11.1, PROTOCOL: V1, DETAIL: 7,7,XS1303,AC1301,v1.11.1, TYPE1300: [1, 1]\n",
      "change protocol identifier to 3\n",
      "ROBOT_IP: 192.168.1.244, VERSION: v1.9.0, PROTOCOL: V1, DETAIL: 7,7,XS1303,AC1300,v1.9.0, TYPE1300: [1, 1]\n",
      "change protocol identifier to 3\n"
     ]
    }
   ],
   "source": [
    "left_arm_api = XArmAPI('192.168.1.225', baud_checkset=False)\n",
    "right_arm_api = XArmAPI('192.168.1.244', baud_checkset=False)"
   ]
  },
  {
   "cell_type": "code",
   "execution_count": 848,
   "id": "2f7e9baa-ec94-41d4-b30c-a8b4a2fddf6d",
   "metadata": {},
   "outputs": [
    {
     "name": "stdout",
     "output_type": "stream",
     "text": [
      "[clean_error], xArm is not ready to move\n",
      "[motion_enable], xArm is not ready to move\n",
      "[set_state], xArm is ready to move\n",
      "[clean_error], xArm is not ready to move\n",
      "[motion_enable], xArm is not ready to move\n",
      "[set_state], xArm is ready to move\n"
     ]
    }
   ],
   "source": [
    "left_robot = Robot(left_arm_api)\n",
    "right_robot = Robot(right_arm_api)"
   ]
  },
  {
   "cell_type": "markdown",
   "id": "3c8cde56-1be9-46ca-8d3e-3a58e3deba2f",
   "metadata": {
    "tags": []
   },
   "source": [
    "#### Motions Both Robots"
   ]
  },
  {
   "cell_type": "code",
   "execution_count": 801,
   "id": "773a35c5-cdbe-49c4-927d-6326e2a55b9f",
   "metadata": {},
   "outputs": [
    {
     "data": {
      "text/plain": [
       "(0, [553.798645, 5.040157, 142.041382, 145.644382, -26.557682, 62.349267])"
      ]
     },
     "execution_count": 801,
     "metadata": {},
     "output_type": "execute_result"
    }
   ],
   "source": [
    "left_robot._arm.get_position()"
   ]
  },
  {
   "cell_type": "code",
   "execution_count": null,
   "id": "778e1bbd-aa32-4be0-afce-57804e2c6d0e",
   "metadata": {},
   "outputs": [],
   "source": []
  },
  {
   "cell_type": "code",
   "execution_count": 734,
   "id": "ce28b3ba-4bab-4683-bd14-a9418cd155a6",
   "metadata": {},
   "outputs": [
    {
     "name": "stdout",
     "output_type": "stream",
     "text": [
      "[2023-07-28 12:21:45][96] Robot is already alive: False\n",
      "[2023-07-28 12:21:45][98] Move   0: [468.352417, 15.291691, 143.041199, -148.524583, 30.021384, -123.720725]\n",
      "[2023-07-28 12:21:46][67] set_position, code=0, connected=True, state=2, error=0, ret1=(0, 2). ret2=(0, [0, 0])\n",
      "[2023-07-28 12:21:46][101] (0) ----> [468.352417, 15.291691, 143.040588, -148.524583, 30.021384, -123.720725]\n"
     ]
    }
   ],
   "source": [
    "left_robot.linear_move([left_round_x_back])"
   ]
  },
  {
   "cell_type": "code",
   "execution_count": null,
   "id": "3197d957-ffb4-4506-bc6a-03bd85ae5794",
   "metadata": {},
   "outputs": [],
   "source": []
  },
  {
   "cell_type": "code",
   "execution_count": null,
   "id": "cb6bd291-450c-49bb-9f6e-aac5caec4749",
   "metadata": {},
   "outputs": [],
   "source": []
  },
  {
   "cell_type": "code",
   "execution_count": 740,
   "id": "5564f792-7384-4b0f-b80c-11f5088c38da",
   "metadata": {},
   "outputs": [
    {
     "data": {
      "text/plain": [
       "(0, [606.605652, -6.745358, 37.096138, -152.121498, 26.530983, -68.702911])"
      ]
     },
     "execution_count": 740,
     "metadata": {},
     "output_type": "execute_result"
    }
   ],
   "source": [
    "right_robot._arm.get_position()"
   ]
  },
  {
   "cell_type": "code",
   "execution_count": null,
   "id": "3513689c-737e-4cf1-b564-79d650cc97d4",
   "metadata": {},
   "outputs": [],
   "source": []
  },
  {
   "cell_type": "code",
   "execution_count": 735,
   "id": "7bf2c5eb-cfb9-41ab-903d-8446d9cdf9bd",
   "metadata": {},
   "outputs": [
    {
     "name": "stdout",
     "output_type": "stream",
     "text": [
      "[2023-07-28 12:21:50][96] Robot is already alive: False\n",
      "[2023-07-28 12:21:50][98] Move   0: [528.529663, -19.326597, 44.763256, -153.866613, 28.627894, -127.381753]\n",
      "[2023-07-28 12:21:50][67] set_position, code=0, connected=True, state=2, error=0, ret1=(0, 2). ret2=(0, [0, 0])\n",
      "[2023-07-28 12:21:50][101] (0) ----> [528.529663, -19.326597, 44.763256, -153.866613, 28.627894, -127.381753]\n"
     ]
    }
   ],
   "source": [
    "right_robot.linear_move([right_round_x_back])"
   ]
  },
  {
   "cell_type": "code",
   "execution_count": null,
   "id": "292dd4e6-dd8b-426b-a8ac-976cb1628507",
   "metadata": {},
   "outputs": [],
   "source": []
  },
  {
   "cell_type": "code",
   "execution_count": 842,
   "id": "eb87e023-872a-4474-9e4a-e9f996a76a81",
   "metadata": {},
   "outputs": [],
   "source": [
    "# Y\n",
    "left_round_y_center = [622.806396, -42.040199, 142.041245, -146.58134, 31.117223, -38.068061]\n",
    "left_round_y_center_down = [622.806396, -42.040199, 134.912399, -146.58134, 31.117223, -38.068061]\n",
    "left_round_y_back = [622.806335, -163.967209, 142.041214, -146.58134, 31.117223, -38.068061]\n",
    "left_round_y_back_down = [622.806335, -163.967209, 134.912399, -146.58134, 31.117223, -38.068061]\n",
    "\n",
    "right_round_y_center = [599.093933, -6.745806, 46.341305, -153.866555, 28.627894, -43.04036]\n",
    "right_round_y_center_down = [599.093933, -6.745806, 39, -153.866555, 28.627894, -43.04036]\n",
    "right_round_y_back = [599.093933, -123.964081, 46.341267, -153.866555, 28.627894, -43.04036]\n",
    "right_round_y_back_down = [599.093933, -123.964081, 39, -153.866555, 28.627894, -43.04036]\n"
   ]
  },
  {
   "cell_type": "code",
   "execution_count": 843,
   "id": "32c24cbd-5e97-47ba-9092-fd9b9ee38fbc",
   "metadata": {},
   "outputs": [
    {
     "name": "stdout",
     "output_type": "stream",
     "text": [
      "[2023-07-28 14:30:36][96] Robot is already alive: False\n",
      "[2023-07-28 14:30:36][98] Move   0: [622.806396, -42.040199, 142.041245, -146.58134, 31.117223, -38.068061]\n",
      "[2023-07-28 14:30:36][67] set_position, code=0, connected=True, state=2, error=0, ret1=(0, 2). ret2=(0, [0, 0])\n",
      "[2023-07-28 14:30:36][101] (0) ----> [358.071625, -0.0, 271.910065, 180.00002, -0.0, -0.0]\n",
      "[2023-07-28 14:30:36][96] Robot is already alive: False\n",
      "[2023-07-28 14:30:36][98] Move   0: [599.093933, -6.745806, 46.341305, -153.866555, 28.627894, -43.04036]\n",
      "[2023-07-28 14:30:40][67] set_position, code=0, connected=True, state=2, error=0, ret1=(0, 2). ret2=(0, [0, 0])\n",
      "[2023-07-28 14:30:40][101] (0) ----> [599.093933, -6.745806, 46.341316, -153.866555, 28.627894, -43.04036]\n"
     ]
    }
   ],
   "source": [
    "left_robot.linear_move([left_round_y_center], wait=False)\n",
    "right_robot.linear_move([right_round_y_center])"
   ]
  },
  {
   "cell_type": "code",
   "execution_count": 838,
   "id": "b6cdbe1a-9773-4c06-be08-3df9e76d4268",
   "metadata": {},
   "outputs": [
    {
     "name": "stdout",
     "output_type": "stream",
     "text": [
      "[2023-07-28 13:04:37][96] Robot is already alive: False\n",
      "[2023-07-28 13:04:37][98] Move   0: [594.031189, -40.275467, 136.5, 146.57985, -31.115562, 117.373498]\n",
      "[2023-07-28 13:04:37][67] set_position, code=0, connected=True, state=2, error=0, ret1=(0, 2). ret2=(0, [0, 0])\n",
      "[2023-07-28 13:04:37][101] (0) ----> [594.030884, -40.275974, 142.0, 146.57985, -31.115562, 117.373498]\n",
      "[2023-07-28 13:04:37][96] Robot is already alive: False\n",
      "[2023-07-28 13:04:37][98] Move   0: [606.605713, -6.745148, 33, 151.468555, -25.818567, 112.777116]\n",
      "[2023-07-28 13:04:38][67] set_position, code=0, connected=True, state=2, error=0, ret1=(0, 2). ret2=(0, [0, 0])\n",
      "[2023-07-28 13:04:38][101] (0) ----> [606.605713, -6.745149, 33.0, 151.468555, -25.818567, 112.777116]\n"
     ]
    }
   ],
   "source": [
    "left_robot.linear_move([left_sharp_xy_center_down], wait=False)\n",
    "right_robot.linear_move([right_sharp_xy_center_down])"
   ]
  },
  {
   "cell_type": "code",
   "execution_count": 839,
   "id": "c97dcdef-af9d-4d36-aef7-d2abcfbcdbfb",
   "metadata": {},
   "outputs": [
    {
     "name": "stdout",
     "output_type": "stream",
     "text": [
      "[2023-07-28 13:04:38][96] Robot is already alive: False\n",
      "[2023-07-28 13:04:38][98] Move   0: [518.360901, -161.156952, 136.5, 148.289212, -32.863427, 114.147861]\n",
      "[2023-07-28 13:04:38][67] set_position, code=0, connected=True, state=2, error=0, ret1=(0, 2). ret2=(0, [0, 0])\n",
      "[2023-07-28 13:04:38][101] (0) ----> [594.031189, -40.275467, 136.50061, 146.57985, -31.115562, 117.373498]\n",
      "[2023-07-28 13:04:38][96] Robot is already alive: False\n",
      "[2023-07-28 13:04:38][98] Move   0: [512.55896, -115.02433, 33, 152.820907, -27.249873, 109.750753]\n",
      "[2023-07-28 13:04:40][67] set_position, code=0, connected=True, state=2, error=0, ret1=(0, 2). ret2=(0, [0, 0])\n",
      "[2023-07-28 13:04:40][101] (0) ----> [512.55896, -115.02433, 33.0, 152.820907, -27.249873, 109.750753]\n"
     ]
    }
   ],
   "source": [
    "left_robot.linear_move([left_sharp_xy_back_down], wait=False)\n",
    "right_robot.linear_move([right_sharp_xy_back_down])"
   ]
  },
  {
   "cell_type": "code",
   "execution_count": 840,
   "id": "68c5c9eb-22a1-4451-9499-db019700c062",
   "metadata": {},
   "outputs": [
    {
     "name": "stdout",
     "output_type": "stream",
     "text": [
      "[2023-07-28 13:04:40][96] Robot is already alive: False\n",
      "[2023-07-28 13:04:40][98] Move   0: [518.360901, -161.156952, 142, 148.289212, -32.863427, 114.147861]\n",
      "[2023-07-28 13:04:40][67] set_position, code=0, connected=True, state=2, error=0, ret1=(0, 2). ret2=(0, [0, 0])\n",
      "[2023-07-28 13:04:40][101] (0) ----> [518.361206, -161.156448, 136.5, 148.289212, -32.863427, 114.147861]\n",
      "[2023-07-28 13:04:40][96] Robot is already alive: False\n",
      "[2023-07-28 13:04:40][98] Move   0: [512.55896, -115.02433, 42, 152.820907, -27.249873, 109.750753]\n",
      "[2023-07-28 13:04:41][67] set_position, code=0, connected=True, state=2, error=0, ret1=(0, 2). ret2=(0, [0, 0])\n",
      "[2023-07-28 13:04:41][101] (0) ----> [512.55896, -115.02433, 42.0, 152.820907, -27.249873, 109.750753]\n"
     ]
    }
   ],
   "source": [
    "left_robot.linear_move([left_sharp_xy_back], wait=False)\n",
    "right_robot.linear_move([right_sharp_xy_back])"
   ]
  },
  {
   "cell_type": "code",
   "execution_count": 852,
   "id": "5196deda-790a-471d-95c5-34eaf24d6f1e",
   "metadata": {},
   "outputs": [
    {
     "name": "stdout",
     "output_type": "stream",
     "text": [
      "=== Prepare ===\n",
      "[2023-07-28 16:18:48][96] Robot is already alive: False\n",
      "[2023-07-28 16:18:48][98] Move   0: [518.361023, -161.15657, 395.066772, -146.58134, 31.117223, -62.629329]\n",
      "[2023-07-28 16:18:48][67] set_position, code=0, connected=True, state=2, error=0, ret1=(0, 2). ret2=(0, [0, 0])\n",
      "[2023-07-28 16:18:48][101] (0) ----> [490.311829, 9.493406, 276.799683, -146.015544, 31.498699, -123.704968]\n",
      "[2023-07-28 16:18:48][96] Robot is already alive: False\n",
      "[2023-07-28 16:18:48][98] Move   0: [512.559021, -115.024704, 310.15274, -152.121498, 26.530983, -68.702911]\n",
      "[2023-07-28 16:18:51][67] set_position, code=0, connected=True, state=2, error=0, ret1=(0, 2). ret2=(0, [0, 0])\n",
      "[2023-07-28 16:18:51][101] (0) ----> [512.559021, -115.024704, 310.15274, -152.121498, 26.530983, -68.702911]\n",
      "=== Reset ===\n"
     ]
    },
    {
     "data": {
      "text/plain": [
       "0"
      ]
     },
     "execution_count": 852,
     "metadata": {},
     "output_type": "execute_result"
    },
    {
     "name": "stdout",
     "output_type": "stream",
     "text": [
      "[SDK][ERROR][2023-07-28 17:34:54][base.py:168] - - [report-socket] socket read timeout\n",
      "[SDK][ERROR][2023-07-28 17:34:54][base.py:168] - - [report-socket] socket read timeout\n",
      "[SDK][ERROR][2023-07-28 17:35:46][base.py:271] - - [main-socket] socket read failed, len=0\n",
      "[SDK][ERROR][2023-07-28 17:35:47][base.py:271] - - [main-socket] socket read failed, len=0\n"
     ]
    }
   ],
   "source": [
    "# Prepare to Reset\n",
    "print(\"=== Prepare ===\")\n",
    "left_reset1 = [518.361023, -161.15657, 395.066772, -146.58134, 31.117223, -62.629329]\n",
    "right_reset1 = [512.559021, -115.024704, 310.15274, -152.121498, 26.530983, -68.702911]\n",
    "left_robot.linear_move([left_reset1], wait=False)\n",
    "right_robot.linear_move([right_reset1])\n",
    "\n",
    "# Servo Reset\n",
    "print(\"=== Reset ===\")\n",
    "left_init = [0, -12, 0, 31.4, 0, 43.4, 0]\n",
    "right_init = [0, -22.3, 0, 25.1, 0, 47.3, 0]\n",
    "\n",
    "left_robot._arm.set_servo_angle(angle=left_init, speed=50, is_radian=False, wait=False)\n",
    "right_robot._arm.set_servo_angle(angle=right_init, speed=50, is_radian=False, wait=True)\n"
   ]
  },
  {
   "cell_type": "code",
   "execution_count": 705,
   "id": "ab708b00-39ac-4349-845d-7c7297d3d47b",
   "metadata": {},
   "outputs": [
    {
     "name": "stdout",
     "output_type": "stream",
     "text": [
      "[2023-07-28 12:12:03][96] Robot is already alive: False\n",
      "[2023-07-28 12:12:03][98] Move   0: [622.806274, -50.55183, 145.040909, 143.6278, -27.443762, 147.963486]\n",
      "[2023-07-28 12:12:03][67] set_position, code=0, connected=True, state=2, error=0, ret1=(0, 2). ret2=(0, [0, 0])\n",
      "[2023-07-28 12:12:03][101] (0) ----> [358.071625, -0.0, 271.910065, 180.00002, -0.0, -0.0]\n",
      "[2023-07-28 12:12:03][96] Robot is already alive: False\n",
      "[2023-07-28 12:12:03][98] Move   0: [599.093872, -15.745597, 46.341263, 154.007331, -28.753658, 136.666534]\n",
      "[2023-07-28 12:12:11][67] set_position, code=0, connected=True, state=2, error=0, ret1=(0, 2). ret2=(0, [0, 0])\n",
      "[2023-07-28 12:12:11][101] (0) ----> [599.093872, -15.745603, 46.341297, 154.007331, -28.753658, 136.666534]\n"
     ]
    }
   ],
   "source": [
    "left_robot.linear_move([left_sharp_y_center], wait=False)\n",
    "right_robot.linear_move([right_sharp_y_center])"
   ]
  },
  {
   "cell_type": "code",
   "execution_count": 641,
   "id": "549c853a-2452-4cf2-ad35-08e7fc68e940",
   "metadata": {},
   "outputs": [],
   "source": [
    "left_sharp_xy_center =  [594.031189, -40.275467, 139.359009, 146.57985, -31.115562, 117.373498]\n",
    "left_sharp_xy_center_down = [594.031189, -40.275467, 131.437881, 146.57985, -31.115562, 117.373498]\n",
    "left_sharp_xy_back = [518.360901, -161.156952, 139.359009, 148.289212, -32.863427, 114.147861]\n",
    "left_sharp_xy_back_down = [518.360901, -161.156952, 131.437881, 148.289212, -32.863427, 114.147861]"
   ]
  },
  {
   "cell_type": "code",
   "execution_count": 651,
   "id": "a1f7cda5-1bde-44b1-9d04-59967934f887",
   "metadata": {
    "collapsed": true,
    "jupyter": {
     "outputs_hidden": true
    },
    "tags": []
   },
   "outputs": [
    {
     "name": "stdout",
     "output_type": "stream",
     "text": [
      "ControllerError, code: 23\n",
      "ControllerError, code: 23\n",
      "ControllerError had clean\n",
      "ControllerError had clean\n",
      "ControllerError, code: 23\n",
      "ControllerError had clean\n",
      "ControllerError, code: 23\n",
      "ControllerError had clean\n",
      "ControllerError, code: 23\n",
      "ControllerError had clean\n",
      "ControllerError, code: 24\n",
      "ControllerError, code: 24\n",
      "ControllerError had clean\n",
      "ControllerError had clean\n",
      "ControllerError, code: 24\n",
      "ControllerError had clean\n",
      "ControllerError, code: 24\n",
      "ControllerError had clean\n"
     ]
    }
   ],
   "source": [
    "right_sharp_xy_center =  [606.605713, -6.745147, 44.096176, 151.468555, -25.818567, 112.777116]\n",
    "right_sharp_xy_center_down = [606.605713, -6.745148, 35.096165, 151.468555, -25.818567, 112.777116]\n",
    "right_sharp_xy_back = [512.55896, -115.02433, 44.095943, 152.820907, -27.249873, 109.750753]\n",
    "right_sharp_xy_back_down = [512.55896, -115.02433, 35.096165, 152.820907, -27.249873, 109.750753]"
   ]
  },
  {
   "cell_type": "code",
   "execution_count": null,
   "id": "17c6c159-ea1f-47e7-b865-61b2144cb85f",
   "metadata": {},
   "outputs": [],
   "source": []
  },
  {
   "cell_type": "code",
   "execution_count": 491,
   "id": "ac796daa-1059-4231-8017-03c945ebb804",
   "metadata": {},
   "outputs": [],
   "source": [
    "left_sharp_y_center = [622.806274, -50.55183, 145.040909, 143.6278, -27.443762, 147.963486]\n",
    "left_sharp_y_center_down = [622.806274, -50.55183, 134.912399, 143.6278, -27.443762, 147.963486]\n",
    "left_sharp_y_back = [622.806396, -163.967102, 142.041367, 142.848462, -26.294638, 149.68763]\n",
    "left_sharp_y_back_down = [622.806396, -163.967102, 134.912399, 142.848462, -26.294638, 149.68763]"
   ]
  },
  {
   "cell_type": "code",
   "execution_count": 487,
   "id": "6636bc52-ecc9-455e-bd75-5ee2cec54bb0",
   "metadata": {},
   "outputs": [],
   "source": [
    "right_sharp_y_center = [599.093872, -15.745597, 46.341263, 154.007331, -28.753658, 136.666534]\n",
    "right_sharp_y_center_down = [599.093933, -15.745597, 36, 154.007331, -28.753658, 136.666534]\n",
    "right_sharp_y_back = [599.093811, -123.963943, 46.341263, 150.007914, -24.515031, 145.567434]\n",
    "right_sharp_y_back_down = [599.093811, -123.963943, 36, 150.007914, -24.515031, 145.567434]"
   ]
  },
  {
   "cell_type": "code",
   "execution_count": null,
   "id": "f379de81-9422-43f1-99e9-c6f7fe1f1d8f",
   "metadata": {},
   "outputs": [],
   "source": []
  },
  {
   "cell_type": "code",
   "execution_count": 602,
   "id": "32b45b3f-8f36-4e1f-bfcb-27d92cb2ece7",
   "metadata": {},
   "outputs": [],
   "source": [
    "left_round_xy_center = [595.031189, -36.275436, 144.468384, -146.58134, 31.117223, -62.629329]\n",
    "left_round_xy_center_down = [595.031189, -36.27544, 135.215225, -146.58134, 31.117223, -62.629329]\n",
    "left_round_xy_back = [518.361023, -161.156662, 144.468384, -146.58134, 31.117223, -62.629329]\n",
    "left_round_xy_back_down = [518.361023, -161.156662, 135.215225, -146.58134, 31.117223, -62.629329]"
   ]
  },
  {
   "cell_type": "code",
   "execution_count": 612,
   "id": "acd550ae-fa3a-43f7-9843-0ca59377d106",
   "metadata": {},
   "outputs": [],
   "source": [
    "right_round_xy_center = [606.605652, -6.745358, 47.09613, -152.121498, 26.530983, -68.702911]\n",
    "right_round_xy_center_down = [606.605652, -6.745358, 38.096127, -152.121498, 26.530983, -68.702911]\n",
    "right_round_xy_back = [512.559082, -115.024704, 47.09613, -152.121498, 26.530983, -68.702911]\n",
    "right_round_xy_back_down = [512.559082, -115.024704, 38.096127, -152.121498, 26.530983, -68.702911]"
   ]
  },
  {
   "cell_type": "code",
   "execution_count": null,
   "id": "4ebd04d9-ed65-48be-a263-492af8eb2b56",
   "metadata": {},
   "outputs": [],
   "source": []
  },
  {
   "cell_type": "code",
   "execution_count": 437,
   "id": "0b1ce35e-d3cd-461c-b325-d1b91dd2c910",
   "metadata": {},
   "outputs": [],
   "source": [
    "left_round_x_center =  [559.59137, 15.291674, 143.041229, -148.524583, 30.021384, -123.720725]\n",
    "left_round_x_center_down = [559.590759, 15.291673, 134.941605, -148.524411, 30.021212, -123.720438]\n",
    "left_round_x_back =  [468.352417, 15.291691, 143.041199, -148.524583, 30.021384, -123.720725]\n",
    "left_round_x_back_down =  [468.352417, 15.291691,  134.941605, -148.524583, 30.021384, -123.720725]"
   ]
  },
  {
   "cell_type": "code",
   "execution_count": 439,
   "id": "60401126-28d2-412b-a978-9e6f6b968a00",
   "metadata": {},
   "outputs": [],
   "source": [
    "right_round_x_center =  [614.858765, -19.32655, 44.763313, -153.866613, 28.627894, -127.381753]\n",
    "right_round_x_center_down = [614.858765, -19.326902, 38.341522, -153.866555, 28.627894, -127.381753]\n",
    "right_round_x_back = [528.529663, -19.326597, 44.763256, -153.866613, 28.627894, -127.381753]\n",
    "right_round_x_back_down = [528.529663, -19.326597, 38.341522, -153.866613, 28.627894, -127.381753]"
   ]
  },
  {
   "cell_type": "code",
   "execution_count": null,
   "id": "31c28874-1a52-441e-b1df-66a526632707",
   "metadata": {},
   "outputs": [],
   "source": []
  },
  {
   "cell_type": "code",
   "execution_count": null,
   "id": "7e48bae0-ece2-4bbc-82ce-15b0bbe09382",
   "metadata": {},
   "outputs": [],
   "source": []
  },
  {
   "cell_type": "code",
   "execution_count": 849,
   "id": "975ede52-e28a-45f0-85de-1ccbbb8b3fe1",
   "metadata": {},
   "outputs": [
    {
     "data": {
      "text/plain": [
       "(0, [540.972168, -0.02023, 267.712219, 179.980024, 0.700212, -1.577868])"
      ]
     },
     "execution_count": 849,
     "metadata": {},
     "output_type": "execute_result"
    }
   ],
   "source": [
    "left_robot._arm.get_position()"
   ]
  },
  {
   "cell_type": "code",
   "execution_count": 850,
   "id": "0b7f2c09-7f02-42c8-a8cc-cf2a262b1e86",
   "metadata": {},
   "outputs": [
    {
     "data": {
      "text/plain": [
       "(0, [710.910522, -159.925446, 332.178955, 163.272861, -27.383429, -16.727732])"
      ]
     },
     "execution_count": 850,
     "metadata": {},
     "output_type": "execute_result"
    }
   ],
   "source": [
    "right_robot._arm.get_position()"
   ]
  },
  {
   "cell_type": "code",
   "execution_count": null,
   "id": "6533d896-f80a-4c37-8167-218789e30c53",
   "metadata": {},
   "outputs": [],
   "source": []
  },
  {
   "cell_type": "code",
   "execution_count": 177,
   "id": "fe30e560-3d81-4c53-ac8b-a73fdb340c71",
   "metadata": {},
   "outputs": [],
   "source": [
    "left_round_y_center = [622.806396, -42.040199, 142.041245, -146.58134, 31.117223, -38.068061]\n",
    "left_round_y_center_down = [622.806396, -42.040199, 134.912399, -146.58134, 31.117223, -38.068061]\n",
    "left_round_y_back = [622.806335, -163.967209, 142.041214, -146.58134, 31.117223, -38.068061]\n",
    "left_round_y_back_down = [622.806335, -163.967209, 134.912399, -146.58134, 31.117223, -38.068061]"
   ]
  },
  {
   "cell_type": "code",
   "execution_count": 179,
   "id": "0c3771b5-a2e0-4c8d-ad55-3282f32698ce",
   "metadata": {},
   "outputs": [],
   "source": [
    "right_round_y_center = [599.093933, -6.745806, 46.341305, -153.866555, 28.627894, -43.04036]\n",
    "right_round_y_center_down = [599.093933, -6.745806, 39, -153.866555, 28.627894, -43.04036]\n",
    "right_round_y_back = [599.093933, -123.964081, 46.341267, -153.866555, 28.627894, -43.04036]\n",
    "right_round_y_back_down = [599.093933, -123.964081, 39, -153.866555, 28.627894, -43.04036]"
   ]
  },
  {
   "cell_type": "code",
   "execution_count": null,
   "id": "137f5636-355c-414e-b10a-91628ad063af",
   "metadata": {},
   "outputs": [],
   "source": []
  },
  {
   "cell_type": "code",
   "execution_count": 142,
   "id": "72002a55-c94c-476b-89d1-00511a5915f8",
   "metadata": {},
   "outputs": [],
   "source": [
    "def z(pos, offset):\n",
    "    return pos[:2] + [pos[2] + offset] + pos[3:]"
   ]
  },
  {
   "cell_type": "code",
   "execution_count": 481,
   "id": "bde33963-7e31-49e5-86bc-0f61751139e9",
   "metadata": {},
   "outputs": [
    {
     "name": "stdout",
     "output_type": "stream",
     "text": [
      "[2023-07-21 16:49:25][96] Robot is already alive: False\n",
      "[2023-07-21 16:49:25][98] Move   0: [599.093872, -15.745597, 46.341263, 154.007331, -28.753658, 136.666534]\n",
      "[2023-07-21 16:49:27][67] set_position, code=0, connected=True, state=2, error=0, ret1=(0, 2). ret2=(0, [0, 0])\n",
      "[2023-07-21 16:49:27][101] (0) ----> [599.093872, -15.745635, 46.341263, 154.007331, -28.753658, 136.666534]\n"
     ]
    }
   ],
   "source": [
    "right_robot.linear_move([right_sharp_y_center])"
   ]
  },
  {
   "cell_type": "code",
   "execution_count": null,
   "id": "acecf166-bf08-46f9-b327-afd840c56108",
   "metadata": {},
   "outputs": [],
   "source": []
  },
  {
   "cell_type": "code",
   "execution_count": null,
   "id": "0bdfc91c-ddf2-4e08-8d27-e44ed645d083",
   "metadata": {},
   "outputs": [],
   "source": []
  },
  {
   "cell_type": "code",
   "execution_count": null,
   "id": "f32167d9-b126-49de-ad3a-c7e2bead63c1",
   "metadata": {},
   "outputs": [],
   "source": []
  },
  {
   "cell_type": "code",
   "execution_count": 429,
   "id": "bdafae9e-92c1-4326-bfbc-8da0f4217eb1",
   "metadata": {
    "collapsed": true,
    "jupyter": {
     "outputs_hidden": true
    },
    "tags": []
   },
   "outputs": [
    {
     "name": "stdout",
     "output_type": "stream",
     "text": [
      "[2023-07-21 16:25:40][96] Robot is already alive: False\n",
      "[2023-07-21 16:25:40][98] Move   0: [595.031189, -36.275436, 144.468384, -146.58134, 31.117223, -62.629329]\n",
      "[2023-07-21 16:25:40][67] set_position, code=0, connected=True, state=2, error=0, ret1=(0, 2). ret2=(0, [0, 0])\n",
      "[2023-07-21 16:25:40][101] (0) ----> [595.030884, -36.275948, 144.468384, -146.58134, 31.117223, -62.629329]\n",
      "[2023-07-21 16:25:40][96] Robot is already alive: False\n",
      "[2023-07-21 16:25:40][98] Move   0: [606.605652, -6.745358, 44.096127, -152.121498, 26.530983, -68.702911]\n",
      "[2023-07-21 16:25:41][67] set_position, code=0, connected=True, state=2, error=0, ret1=(0, 2). ret2=(0, [0, 0])\n",
      "[2023-07-21 16:25:41][101] (0) ----> [606.605652, -6.745358, 44.096127, -152.121498, 26.530983, -68.702911]\n"
     ]
    }
   ],
   "source": [
    "left_robot.linear_move([left_round_xy_center], wait=False)\n",
    "right_robot.linear_move([right_round_xy_center])"
   ]
  },
  {
   "cell_type": "code",
   "execution_count": 430,
   "id": "ed2fd9fe-ae6c-4f02-8a1c-0452e8508f47",
   "metadata": {
    "collapsed": true,
    "jupyter": {
     "outputs_hidden": true
    },
    "tags": []
   },
   "outputs": [
    {
     "name": "stdout",
     "output_type": "stream",
     "text": [
      "[2023-07-21 16:25:46][96] Robot is already alive: False\n",
      "[2023-07-21 16:25:46][98] Move   0: [595.031189, -36.275436, 144.468384, -146.58134, 31.117223, -62.629329]\n",
      "[2023-07-21 16:25:46][67] set_position, code=0, connected=True, state=2, error=0, ret1=(0, 2). ret2=(0, [0, 0])\n",
      "[2023-07-21 16:25:46][101] (0) ----> [595.030884, -36.275948, 144.468384, -146.58134, 31.117223, -62.629329]\n",
      "[2023-07-21 16:25:46][96] Robot is already alive: False\n",
      "[2023-07-21 16:25:46][98] Move   0: [606.605652, -6.745358, 44.096127, -152.121498, 26.530983, -68.702911]\n",
      "[2023-07-21 16:25:46][67] set_position, code=0, connected=True, state=2, error=0, ret1=(0, 2). ret2=(0, [0, 0])\n",
      "[2023-07-21 16:25:46][101] (0) ----> [606.605652, -6.745358, 44.096127, -152.121498, 26.530983, -68.702911]\n",
      "[2023-07-21 16:25:46][96] Robot is already alive: False\n",
      "[2023-07-21 16:25:46][98] Move   0: [595.031189, -36.27544, 135.215225, -146.58134, 31.117223, -62.629329]\n",
      "[2023-07-21 16:25:46][67] set_position, code=0, connected=True, state=2, error=0, ret1=(0, 2). ret2=(0, [0, 0])\n",
      "[2023-07-21 16:25:46][101] (0) ----> [595.030884, -36.275948, 144.468384, -146.58134, 31.117223, -62.629329]\n",
      "[2023-07-21 16:25:46][96] Robot is already alive: False\n",
      "[2023-07-21 16:25:46][98] Move   0: [606.605652, -6.745358, 38.096127, -152.121498, 26.530983, -68.702911]\n",
      "[2023-07-21 16:25:47][67] set_position, code=0, connected=True, state=2, error=0, ret1=(0, 2). ret2=(0, [0, 0])\n",
      "[2023-07-21 16:25:47][101] (0) ----> [606.605652, -6.745358, 38.096165, -152.121498, 26.530983, -68.702911]\n",
      "[2023-07-21 16:25:47][96] Robot is already alive: False\n",
      "[2023-07-21 16:25:47][98] Move   0: [518.361023, -161.156662, 135.215225, -146.58134, 31.117223, -62.629329]\n",
      "[2023-07-21 16:25:47][67] set_position, code=0, connected=True, state=2, error=0, ret1=(0, 2). ret2=(0, [0, 0])\n",
      "[2023-07-21 16:25:47][101] (0) ----> [595.031189, -36.27544, 135.21582, -146.58134, 31.117223, -62.629329]\n",
      "[2023-07-21 16:25:47][96] Robot is already alive: False\n",
      "[2023-07-21 16:25:47][98] Move   0: [512.559082, -115.024704, 36.096127, -152.121498, 26.530983, -68.702911]\n",
      "[2023-07-21 16:25:49][67] set_position, code=0, connected=True, state=2, error=0, ret1=(0, 2). ret2=(0, [0, 0])\n",
      "[2023-07-21 16:25:49][101] (0) ----> [512.559082, -115.024704, 36.096127, -152.121498, 26.530983, -68.702911]\n",
      "[2023-07-21 16:25:49][96] Robot is already alive: False\n",
      "[2023-07-21 16:25:49][98] Move   0: [518.361023, -161.156662, 144.468384, -146.58134, 31.117223, -62.629329]\n",
      "[2023-07-21 16:25:49][67] set_position, code=0, connected=True, state=2, error=0, ret1=(0, 2). ret2=(0, [0, 0])\n",
      "[2023-07-21 16:25:49][101] (0) ----> [518.361328, -161.156158, 135.215225, -146.58134, 31.117223, -62.629329]\n",
      "[2023-07-21 16:25:49][96] Robot is already alive: False\n",
      "[2023-07-21 16:25:49][98] Move   0: [512.559082, -115.024704, 44.096107, -152.121498, 26.530983, -68.702911]\n",
      "[2023-07-21 16:25:49][67] set_position, code=0, connected=True, state=2, error=0, ret1=(0, 2). ret2=(0, [0, 0])\n",
      "[2023-07-21 16:25:49][101] (0) ----> [512.559082, -115.024704, 44.096107, -152.121498, 26.530983, -68.702911]\n",
      "[2023-07-21 16:25:50][96] Robot is already alive: False\n",
      "[2023-07-21 16:25:50][98] Move   0: [595.031189, -36.275436, 144.468384, -146.58134, 31.117223, -62.629329]\n",
      "[2023-07-21 16:25:50][67] set_position, code=0, connected=True, state=2, error=0, ret1=(0, 2). ret2=(0, [0, 0])\n",
      "[2023-07-21 16:25:50][101] (0) ----> [518.361023, -161.156662, 144.467789, -146.58134, 31.117223, -62.629329]\n",
      "[2023-07-21 16:25:50][96] Robot is already alive: False\n",
      "[2023-07-21 16:25:50][98] Move   0: [606.605652, -6.745358, 44.096127, -152.121498, 26.530983, -68.702911]\n",
      "[2023-07-21 16:25:51][67] set_position, code=0, connected=True, state=2, error=0, ret1=(0, 2). ret2=(0, [0, 0])\n",
      "[2023-07-21 16:25:51][101] (0) ----> [606.605652, -6.745358, 44.096127, -152.121498, 26.530983, -68.702911]\n",
      "[2023-07-21 16:25:51][96] Robot is already alive: False\n",
      "[2023-07-21 16:25:51][98] Move   0: [595.031189, -36.27544, 133.215225, -146.58134, 31.117223, -62.629329]\n",
      "[2023-07-21 16:25:51][67] set_position, code=0, connected=True, state=2, error=0, ret1=(0, 2). ret2=(0, [0, 0])\n",
      "[2023-07-21 16:25:51][101] (0) ----> [595.030884, -36.275948, 144.468384, -146.58134, 31.117223, -62.629329]\n",
      "[2023-07-21 16:25:51][96] Robot is already alive: False\n",
      "[2023-07-21 16:25:51][98] Move   0: [606.605652, -6.745358, 36.096127, -152.121498, 26.530983, -68.702911]\n",
      "[2023-07-21 16:25:52][67] set_position, code=0, connected=True, state=2, error=0, ret1=(0, 2). ret2=(0, [0, 0])\n",
      "[2023-07-21 16:25:52][101] (0) ----> [606.605652, -6.745358, 36.096127, -152.121498, 26.530983, -68.702911]\n",
      "[2023-07-21 16:25:52][96] Robot is already alive: False\n",
      "[2023-07-21 16:25:52][98] Move   0: [518.361023, -161.156662, 133.215225, -146.58134, 31.117223, -62.629329]\n",
      "[2023-07-21 16:25:52][67] set_position, code=0, connected=True, state=2, error=0, ret1=(0, 2). ret2=(0, [0, 0])\n",
      "[2023-07-21 16:25:52][101] (0) ----> [595.031189, -36.27544, 133.21582, -146.58134, 31.117223, -62.629329]\n",
      "[2023-07-21 16:25:52][96] Robot is already alive: False\n",
      "[2023-07-21 16:25:52][98] Move   0: [512.559082, -115.024704, 34.096127, -152.121498, 26.530983, -68.702911]\n",
      "[2023-07-21 16:25:54][67] set_position, code=0, connected=True, state=2, error=0, ret1=(0, 2). ret2=(0, [0, 0])\n",
      "[2023-07-21 16:25:54][101] (0) ----> [512.559082, -115.024704, 34.096127, -152.121498, 26.530983, -68.702911]\n",
      "[2023-07-21 16:25:54][96] Robot is already alive: False\n",
      "[2023-07-21 16:25:54][98] Move   0: [518.361023, -161.156662, 144.468384, -146.58134, 31.117223, -62.629329]\n",
      "[2023-07-21 16:25:54][67] set_position, code=0, connected=True, state=2, error=0, ret1=(0, 2). ret2=(0, [0, 0])\n",
      "[2023-07-21 16:25:54][101] (0) ----> [518.361328, -161.156158, 133.215225, -146.58134, 31.117223, -62.629329]\n",
      "[2023-07-21 16:25:54][96] Robot is already alive: False\n",
      "[2023-07-21 16:25:54][98] Move   0: [512.559082, -115.024704, 44.096107, -152.121498, 26.530983, -68.702911]\n",
      "[2023-07-21 16:25:54][67] set_position, code=0, connected=True, state=2, error=0, ret1=(0, 2). ret2=(0, [0, 0])\n",
      "[2023-07-21 16:25:54][101] (0) ----> [512.559082, -115.024704, 44.096107, -152.121498, 26.530983, -68.702911]\n",
      "[2023-07-21 16:25:55][96] Robot is already alive: False\n",
      "[2023-07-21 16:25:55][98] Move   0: [595.031189, -36.275436, 144.468384, -146.58134, 31.117223, -62.629329]\n",
      "[2023-07-21 16:25:55][67] set_position, code=0, connected=True, state=2, error=0, ret1=(0, 2). ret2=(0, [0, 0])\n",
      "[2023-07-21 16:25:55][101] (0) ----> [518.361023, -161.156662, 144.467789, -146.58134, 31.117223, -62.629329]\n",
      "[2023-07-21 16:25:55][96] Robot is already alive: False\n",
      "[2023-07-21 16:25:55][98] Move   0: [606.605652, -6.745358, 44.096127, -152.121498, 26.530983, -68.702911]\n",
      "[2023-07-21 16:25:57][67] set_position, code=0, connected=True, state=2, error=0, ret1=(0, 2). ret2=(0, [0, 0])\n",
      "[2023-07-21 16:25:57][101] (0) ----> [606.605652, -6.745358, 44.096127, -152.121498, 26.530983, -68.702911]\n",
      "[2023-07-21 16:25:57][96] Robot is already alive: False\n",
      "[2023-07-21 16:25:57][98] Move   0: [595.031189, -36.27544, 131.215225, -146.58134, 31.117223, -62.629329]\n",
      "[2023-07-21 16:25:57][67] set_position, code=0, connected=True, state=2, error=0, ret1=(0, 2). ret2=(0, [0, 0])\n",
      "[2023-07-21 16:25:57][101] (0) ----> [595.030884, -36.275948, 144.468384, -146.58134, 31.117223, -62.629329]\n",
      "[2023-07-21 16:25:57][96] Robot is already alive: False\n",
      "[2023-07-21 16:25:57][98] Move   0: [606.605652, -6.745358, 34.096127, -152.121498, 26.530983, -68.702911]\n",
      "[2023-07-21 16:25:57][67] set_position, code=0, connected=True, state=2, error=0, ret1=(0, 2). ret2=(0, [0, 0])\n",
      "[2023-07-21 16:25:57][101] (0) ----> [606.605652, -6.745358, 34.096127, -152.121498, 26.530983, -68.702911]\n",
      "[2023-07-21 16:25:57][96] Robot is already alive: False\n",
      "[2023-07-21 16:25:57][98] Move   0: [518.361023, -161.156662, 131.215225, -146.58134, 31.117223, -62.629329]\n",
      "[2023-07-21 16:25:57][67] set_position, code=0, connected=True, state=2, error=0, ret1=(0, 2). ret2=(0, [0, 0])\n",
      "[2023-07-21 16:25:57][101] (0) ----> [595.031189, -36.27544, 131.21582, -146.58134, 31.117223, -62.629329]\n",
      "[2023-07-21 16:25:57][96] Robot is already alive: False\n",
      "[2023-07-21 16:25:57][98] Move   0: [512.559082, -115.024704, 32.096127, -152.121498, 26.530983, -68.702911]\n",
      "[2023-07-21 16:25:59][67] set_position, code=0, connected=True, state=2, error=0, ret1=(0, 2). ret2=(0, [0, 0])\n",
      "[2023-07-21 16:25:59][101] (0) ----> [512.559082, -115.024704, 32.096127, -152.121498, 26.530983, -68.702911]\n",
      "[2023-07-21 16:25:59][96] Robot is already alive: False\n",
      "[2023-07-21 16:25:59][98] Move   0: [518.361023, -161.156662, 144.468384, -146.58134, 31.117223, -62.629329]\n",
      "[2023-07-21 16:25:59][67] set_position, code=0, connected=True, state=2, error=0, ret1=(0, 2). ret2=(0, [0, 0])\n",
      "[2023-07-21 16:25:59][101] (0) ----> [518.361328, -161.156158, 131.215225, -146.58134, 31.117223, -62.629329]\n",
      "[2023-07-21 16:25:59][96] Robot is already alive: False\n",
      "[2023-07-21 16:25:59][98] Move   0: [512.559082, -115.024704, 44.096107, -152.121498, 26.530983, -68.702911]\n",
      "[2023-07-21 16:26:00][67] set_position, code=0, connected=True, state=2, error=0, ret1=(0, 2). ret2=(0, [0, 0])\n",
      "[2023-07-21 16:26:00][101] (0) ----> [512.559082, -115.024704, 44.096107, -152.121498, 26.530983, -68.702911]\n",
      "[2023-07-21 16:26:00][96] Robot is already alive: False\n",
      "[2023-07-21 16:26:00][98] Move   0: [595.031189, -36.275436, 144.468384, -146.58134, 31.117223, -62.629329]\n",
      "[2023-07-21 16:26:00][67] set_position, code=0, connected=True, state=2, error=0, ret1=(0, 2). ret2=(0, [0, 0])\n",
      "[2023-07-21 16:26:00][101] (0) ----> [518.361023, -161.156662, 144.467789, -146.58134, 31.117223, -62.629329]\n",
      "[2023-07-21 16:26:00][96] Robot is already alive: False\n",
      "[2023-07-21 16:26:00][98] Move   0: [606.605652, -6.745358, 44.096127, -152.121498, 26.530983, -68.702911]\n",
      "[2023-07-21 16:26:02][67] set_position, code=0, connected=True, state=2, error=0, ret1=(0, 2). ret2=(0, [0, 0])\n",
      "[2023-07-21 16:26:02][101] (0) ----> [606.605652, -6.745358, 44.096127, -152.121498, 26.530983, -68.702911]\n"
     ]
    }
   ],
   "source": [
    "motion(left_round_xy_center, left_round_xy_center_down, left_round_xy_back, left_round_xy_back_down,\n",
    "       right_round_xy_center, right_round_xy_center_down, right_round_xy_back, right_round_xy_back_down, 3, 2)"
   ]
  },
  {
   "cell_type": "code",
   "execution_count": null,
   "id": "00d01355-2576-493b-a26d-df4d2869fcab",
   "metadata": {},
   "outputs": [],
   "source": []
  },
  {
   "cell_type": "code",
   "execution_count": 387,
   "id": "a2174818-fb9d-455a-bca1-ea95bc197a58",
   "metadata": {
    "tags": []
   },
   "outputs": [
    {
     "name": "stdout",
     "output_type": "stream",
     "text": [
      "[2023-07-21 16:13:11][96] Robot is already alive: False\n",
      "[2023-07-21 16:13:11][98] Move   0: [595.031189, -36.275467, 149.359634, 146.57985, -31.115562, 117.373498]\n",
      "[2023-07-21 16:13:11][67] set_position, code=0, connected=True, state=2, error=0, ret1=(0, 2). ret2=(0, [0, 0])\n",
      "[2023-07-21 16:13:11][101] (0) ----> [518.360901, -161.156982, 150.358765, 148.289212, -32.863427, 114.147861]\n",
      "[2023-07-21 16:13:11][96] Robot is already alive: False\n",
      "[2023-07-21 16:13:11][98] Move   0: [606.605713, -6.745147, 44.096176, 151.468555, -25.818567, 112.777116]\n",
      "[2023-07-21 16:13:12][67] set_position, code=0, connected=True, state=2, error=0, ret1=(0, 2). ret2=(0, [0, 0])\n",
      "[2023-07-21 16:13:12][101] (0) ----> [606.605713, -6.745147, 44.09618, 151.468555, -25.818567, 112.777116]\n"
     ]
    }
   ],
   "source": []
  },
  {
   "cell_type": "code",
   "execution_count": 388,
   "id": "f70b67c7-7505-48fe-afe6-88c6bf71f516",
   "metadata": {
    "collapsed": true,
    "jupyter": {
     "outputs_hidden": true
    },
    "tags": []
   },
   "outputs": [
    {
     "name": "stdout",
     "output_type": "stream",
     "text": [
      "[2023-07-21 16:13:15][96] Robot is already alive: False\n",
      "[2023-07-21 16:13:15][98] Move   0: [595.031189, -36.275467, 149.359634, 146.57985, -31.115562, 117.373498]\n",
      "[2023-07-21 16:13:15][67] set_position, code=0, connected=True, state=2, error=0, ret1=(0, 2). ret2=(0, [0, 0])\n",
      "[2023-07-21 16:13:15][101] (0) ----> [595.030884, -36.275982, 149.359634, 146.57985, -31.115562, 117.373498]\n",
      "[2023-07-21 16:13:15][96] Robot is already alive: False\n",
      "[2023-07-21 16:13:15][98] Move   0: [606.605713, -6.745147, 44.096176, 151.468555, -25.818567, 112.777116]\n",
      "[2023-07-21 16:13:16][67] set_position, code=0, connected=True, state=2, error=0, ret1=(0, 2). ret2=(0, [0, 0])\n",
      "[2023-07-21 16:13:16][101] (0) ----> [606.605713, -6.745147, 44.09618, 151.468555, -25.818567, 112.777116]\n",
      "[2023-07-21 16:13:16][96] Robot is already alive: False\n",
      "[2023-07-21 16:13:16][98] Move   0: [595.031189, -36.275482, 137.437881, 146.57985, -31.115562, 117.373498]\n",
      "[2023-07-21 16:13:16][67] set_position, code=0, connected=True, state=2, error=0, ret1=(0, 2). ret2=(0, [0, 0])\n",
      "[2023-07-21 16:13:16][101] (0) ----> [595.030884, -36.275982, 149.359634, 146.57985, -31.115562, 117.373498]\n",
      "[2023-07-21 16:13:16][96] Robot is already alive: False\n",
      "[2023-07-21 16:13:16][98] Move   0: [606.605713, -6.745148, 36.096165, 151.468555, -25.818567, 112.777116]\n",
      "[2023-07-21 16:13:16][67] set_position, code=0, connected=True, state=2, error=0, ret1=(0, 2). ret2=(0, [0, 0])\n",
      "[2023-07-21 16:13:16][101] (0) ----> [606.605713, -6.745148, 36.096169, 151.468555, -25.818567, 112.777116]\n",
      "[2023-07-21 16:13:16][96] Robot is already alive: False\n",
      "[2023-07-21 16:13:16][98] Move   0: [518.360901, -161.156952, 137.437881, 148.289212, -32.863427, 114.147861]\n",
      "[2023-07-21 16:13:16][67] set_position, code=0, connected=True, state=2, error=0, ret1=(0, 2). ret2=(0, [0, 0])\n",
      "[2023-07-21 16:13:16][101] (0) ----> [595.031189, -36.275486, 137.438477, 146.57985, -31.115562, 117.373498]\n",
      "[2023-07-21 16:13:16][96] Robot is already alive: False\n",
      "[2023-07-21 16:13:16][98] Move   0: [512.55896, -115.02433, 36.096165, 152.820907, -27.249873, 109.750753]\n",
      "[2023-07-21 16:13:18][67] set_position, code=0, connected=True, state=2, error=0, ret1=(0, 2). ret2=(0, [0, 0])\n",
      "[2023-07-21 16:13:18][101] (0) ----> [512.55896, -115.02433, 36.096165, 152.820907, -27.249873, 109.750753]\n",
      "[2023-07-21 16:13:18][96] Robot is already alive: False\n",
      "[2023-07-21 16:13:18][98] Move   0: [518.360901, -161.156952, 150.35936, 148.289212, -32.863427, 114.147861]\n",
      "[2023-07-21 16:13:18][67] set_position, code=0, connected=True, state=1, error=0, ret1=(0, 1). ret2=(0, [0, 0])\n",
      "[2023-07-21 16:13:18][101] (0) ----> [518.361206, -161.156448, 137.437881, 148.289212, -32.863427, 114.147861]\n",
      "[2023-07-21 16:13:18][96] Robot is already alive: False\n",
      "[2023-07-21 16:13:18][98] Move   0: [512.55896, -115.02433, 44.095943, 152.820907, -27.249873, 109.750753]\n",
      "[2023-07-21 16:13:19][67] set_position, code=0, connected=True, state=2, error=0, ret1=(0, 2). ret2=(0, [0, 0])\n",
      "[2023-07-21 16:13:19][101] (0) ----> [512.55896, -115.02433, 44.095943, 152.820907, -27.249873, 109.750753]\n",
      "[2023-07-21 16:13:19][96] Robot is already alive: False\n",
      "[2023-07-21 16:13:19][98] Move   0: [595.031189, -36.275467, 149.359634, 146.57985, -31.115562, 117.373498]\n",
      "[2023-07-21 16:13:19][67] set_position, code=0, connected=True, state=2, error=0, ret1=(0, 2). ret2=(0, [0, 0])\n",
      "[2023-07-21 16:13:19][101] (0) ----> [518.360901, -161.156952, 150.358749, 148.289212, -32.863427, 114.147861]\n",
      "[2023-07-21 16:13:19][96] Robot is already alive: False\n",
      "[2023-07-21 16:13:19][98] Move   0: [606.605713, -6.745147, 44.096176, 151.468555, -25.818567, 112.777116]\n",
      "[2023-07-21 16:13:21][67] set_position, code=0, connected=True, state=2, error=0, ret1=(0, 2). ret2=(0, [0, 0])\n",
      "[2023-07-21 16:13:21][101] (0) ----> [606.605713, -6.745147, 44.096176, 151.468555, -25.818567, 112.777116]\n",
      "[2023-07-21 16:13:21][96] Robot is already alive: False\n",
      "[2023-07-21 16:13:21][98] Move   0: [595.031189, -36.275482, 135.437881, 146.57985, -31.115562, 117.373498]\n",
      "[2023-07-21 16:13:21][67] set_position, code=0, connected=True, state=2, error=0, ret1=(0, 2). ret2=(0, [0, 0])\n",
      "[2023-07-21 16:13:21][101] (0) ----> [595.030884, -36.275978, 149.359634, 146.57985, -31.115562, 117.373498]\n",
      "[2023-07-21 16:13:21][96] Robot is already alive: False\n",
      "[2023-07-21 16:13:21][98] Move   0: [606.605713, -6.745148, 34.096165, 151.468555, -25.818567, 112.777116]\n",
      "[2023-07-21 16:13:21][67] set_position, code=0, connected=True, state=2, error=0, ret1=(0, 2). ret2=(0, [0, 0])\n",
      "[2023-07-21 16:13:21][101] (0) ----> [606.605713, -6.745148, 34.096165, 151.468555, -25.818567, 112.777116]\n",
      "[2023-07-21 16:13:21][96] Robot is already alive: False\n",
      "[2023-07-21 16:13:21][98] Move   0: [518.360901, -161.156952, 135.437881, 148.289212, -32.863427, 114.147861]\n",
      "[2023-07-21 16:13:21][67] set_position, code=0, connected=True, state=2, error=0, ret1=(0, 2). ret2=(0, [0, 0])\n",
      "[2023-07-21 16:13:21][101] (0) ----> [595.031189, -36.275482, 135.438477, 146.57985, -31.115562, 117.373498]\n",
      "[2023-07-21 16:13:21][96] Robot is already alive: False\n",
      "[2023-07-21 16:13:21][98] Move   0: [512.55896, -115.02433, 34.096165, 152.820907, -27.249873, 109.750753]\n",
      "[2023-07-21 16:13:23][67] set_position, code=0, connected=True, state=2, error=0, ret1=(0, 2). ret2=(0, [0, 0])\n",
      "[2023-07-21 16:13:23][101] (0) ----> [512.55896, -115.02433, 34.096165, 152.820907, -27.249873, 109.750753]\n",
      "[2023-07-21 16:13:23][96] Robot is already alive: False\n",
      "[2023-07-21 16:13:23][98] Move   0: [518.360901, -161.156952, 150.35936, 148.289212, -32.863427, 114.147861]\n",
      "[2023-07-21 16:13:23][67] set_position, code=0, connected=True, state=2, error=0, ret1=(0, 2). ret2=(0, [0, 0])\n",
      "[2023-07-21 16:13:23][101] (0) ----> [518.361206, -161.156448, 135.437881, 148.289212, -32.863427, 114.147861]\n",
      "[2023-07-21 16:13:23][96] Robot is already alive: False\n",
      "[2023-07-21 16:13:23][98] Move   0: [512.55896, -115.02433, 44.095943, 152.820907, -27.249873, 109.750753]\n",
      "[2023-07-21 16:13:24][67] set_position, code=0, connected=True, state=2, error=0, ret1=(0, 2). ret2=(0, [0, 0])\n",
      "[2023-07-21 16:13:24][101] (0) ----> [512.55896, -115.02433, 44.095943, 152.820907, -27.249873, 109.750753]\n",
      "[2023-07-21 16:13:24][96] Robot is already alive: False\n",
      "[2023-07-21 16:13:24][98] Move   0: [595.031189, -36.275467, 149.359634, 146.57985, -31.115562, 117.373498]\n",
      "[2023-07-21 16:13:24][67] set_position, code=0, connected=True, state=2, error=0, ret1=(0, 2). ret2=(0, [0, 0])\n",
      "[2023-07-21 16:13:24][101] (0) ----> [518.360901, -161.156952, 150.358765, 148.289212, -32.863427, 114.147861]\n",
      "[2023-07-21 16:13:24][96] Robot is already alive: False\n",
      "[2023-07-21 16:13:24][98] Move   0: [606.605713, -6.745147, 44.096176, 151.468555, -25.818567, 112.777116]\n",
      "[2023-07-21 16:13:26][67] set_position, code=0, connected=True, state=2, error=0, ret1=(0, 2). ret2=(0, [0, 0])\n",
      "[2023-07-21 16:13:26][101] (0) ----> [606.605713, -6.745147, 44.096176, 151.468555, -25.818567, 112.777116]\n",
      "[2023-07-21 16:13:26][96] Robot is already alive: False\n",
      "[2023-07-21 16:13:26][98] Move   0: [595.031189, -36.275482, 133.437881, 146.57985, -31.115562, 117.373498]\n",
      "[2023-07-21 16:13:26][67] set_position, code=0, connected=True, state=2, error=0, ret1=(0, 2). ret2=(0, [0, 0])\n",
      "[2023-07-21 16:13:26][101] (0) ----> [595.030884, -36.275978, 149.359634, 146.57985, -31.115562, 117.373498]\n",
      "[2023-07-21 16:13:26][96] Robot is already alive: False\n",
      "[2023-07-21 16:13:26][98] Move   0: [606.605713, -6.745148, 32.096165, 151.468555, -25.818567, 112.777116]\n",
      "[2023-07-21 16:13:27][67] set_position, code=0, connected=True, state=2, error=0, ret1=(0, 2). ret2=(0, [0, 0])\n",
      "[2023-07-21 16:13:27][101] (0) ----> [606.605713, -6.745148, 32.096165, 151.468555, -25.818567, 112.777116]\n",
      "[2023-07-21 16:13:27][96] Robot is already alive: False\n",
      "[2023-07-21 16:13:27][98] Move   0: [518.360901, -161.156952, 133.437881, 148.289212, -32.863427, 114.147861]\n",
      "[2023-07-21 16:13:27][67] set_position, code=0, connected=True, state=2, error=0, ret1=(0, 2). ret2=(0, [0, 0])\n",
      "[2023-07-21 16:13:27][101] (0) ----> [595.031189, -36.275482, 133.438492, 146.57985, -31.115562, 117.373498]\n",
      "[2023-07-21 16:13:27][96] Robot is already alive: False\n",
      "[2023-07-21 16:13:27][98] Move   0: [512.55896, -115.02433, 32.096165, 152.820907, -27.249873, 109.750753]\n",
      "[2023-07-21 16:13:29][67] set_position, code=0, connected=True, state=2, error=0, ret1=(0, 2). ret2=(0, [0, 0])\n",
      "[2023-07-21 16:13:29][101] (0) ----> [512.55896, -115.02433, 32.096165, 152.820907, -27.249873, 109.750753]\n",
      "[2023-07-21 16:13:29][96] Robot is already alive: False\n",
      "[2023-07-21 16:13:29][98] Move   0: [518.360901, -161.156952, 150.35936, 148.289212, -32.863427, 114.147861]\n",
      "[2023-07-21 16:13:29][67] set_position, code=0, connected=True, state=2, error=0, ret1=(0, 2). ret2=(0, [0, 0])\n",
      "[2023-07-21 16:13:29][101] (0) ----> [518.361206, -161.156448, 133.437881, 148.289212, -32.863427, 114.147861]\n",
      "[2023-07-21 16:13:29][96] Robot is already alive: False\n",
      "[2023-07-21 16:13:29][98] Move   0: [512.55896, -115.02433, 44.095943, 152.820907, -27.249873, 109.750753]\n",
      "[2023-07-21 16:13:29][67] set_position, code=0, connected=True, state=2, error=0, ret1=(0, 2). ret2=(0, [0, 0])\n",
      "[2023-07-21 16:13:29][101] (0) ----> [512.55896, -115.02433, 44.095943, 152.820907, -27.249873, 109.750753]\n",
      "[2023-07-21 16:13:30][96] Robot is already alive: False\n",
      "[2023-07-21 16:13:30][98] Move   0: [595.031189, -36.275467, 149.359634, 146.57985, -31.115562, 117.373498]\n",
      "[2023-07-21 16:13:30][67] set_position, code=0, connected=True, state=2, error=0, ret1=(0, 2). ret2=(0, [0, 0])\n",
      "[2023-07-21 16:13:30][101] (0) ----> [518.360901, -161.156952, 150.358765, 148.289212, -32.863427, 114.147861]\n",
      "[2023-07-21 16:13:30][96] Robot is already alive: False\n",
      "[2023-07-21 16:13:30][98] Move   0: [606.605713, -6.745147, 44.096176, 151.468555, -25.818567, 112.777116]\n",
      "[2023-07-21 16:13:32][67] set_position, code=0, connected=True, state=2, error=0, ret1=(0, 2). ret2=(0, [0, 0])\n",
      "[2023-07-21 16:13:32][101] (0) ----> [606.605713, -6.745147, 44.096176, 151.468555, -25.818567, 112.777116]\n"
     ]
    }
   ],
   "source": []
  },
  {
   "cell_type": "code",
   "execution_count": 389,
   "id": "910e8676-6a2f-4692-9018-e8d0d4a099ee",
   "metadata": {
    "collapsed": true,
    "jupyter": {
     "outputs_hidden": true
    },
    "tags": []
   },
   "outputs": [
    {
     "name": "stdout",
     "output_type": "stream",
     "text": [
      "[2023-07-21 16:13:50][96] Robot is already alive: False\n",
      "[2023-07-21 16:13:50][98] Move   0: [559.590759, 15.291673, 143.041214, -148.524583, 30.021384, -123.720725]\n",
      "[2023-07-21 16:13:50][67] set_position, code=0, connected=True, state=1, error=0, ret1=(0, 1). ret2=(0, [0, 0])\n",
      "[2023-07-21 16:13:50][101] (0) ----> [595.030884, -36.275978, 149.359634, 146.57985, -31.115562, 117.373498]\n",
      "[2023-07-21 16:13:50][96] Robot is already alive: False\n",
      "[2023-07-21 16:13:50][98] Move   0: [622.324585, -19.32655, 44.763309, -153.866613, 28.627894, -127.381753]\n",
      "[2023-07-21 16:13:57][67] set_position, code=0, connected=True, state=2, error=0, ret1=(0, 2). ret2=(0, [0, 0])\n",
      "[2023-07-21 16:13:57][101] (0) ----> [622.324524, -19.326521, 44.763309, -153.866842, 28.627951, -127.382097]\n"
     ]
    }
   ],
   "source": []
  },
  {
   "cell_type": "code",
   "execution_count": 317,
   "id": "165c03e5-7edb-441c-aaa8-3515fba0635a",
   "metadata": {
    "collapsed": true,
    "jupyter": {
     "outputs_hidden": true
    },
    "tags": []
   },
   "outputs": [
    {
     "name": "stdout",
     "output_type": "stream",
     "text": [
      "[2023-07-21 15:44:38][96] Robot is already alive: False\n",
      "[2023-07-21 15:44:38][98] Move   0: [559.590759, 15.291673, 143.041214, -148.524583, 30.021384, -123.720725]\n",
      "[2023-07-21 15:44:38][67] set_position, code=0, connected=True, state=2, error=0, ret1=(0, 2). ret2=(0, [0, 0])\n",
      "[2023-07-21 15:44:38][101] (0) ----> [559.590149, 15.291673, 143.041214, -148.524583, 30.021384, -123.720725]\n",
      "[2023-07-21 15:44:38][96] Robot is already alive: False\n",
      "[2023-07-21 15:44:38][98] Move   0: [622.324585, -19.32655, 44.763309, -153.866613, 28.627894, -127.381753]\n",
      "[2023-07-21 15:44:39][67] set_position, code=0, connected=True, state=2, error=0, ret1=(0, 2). ret2=(0, [0, 0])\n",
      "[2023-07-21 15:44:39][101] (0) ----> [622.324585, -19.32655, 44.763317, -153.866613, 28.627894, -127.381753]\n",
      "[2023-07-21 15:44:39][96] Robot is already alive: False\n",
      "[2023-07-21 15:44:39][98] Move   0: [559.590759, 15.291673, 134.941605, -148.524411, 30.021212, -123.720438]\n",
      "[2023-07-21 15:44:39][67] set_position, code=0, connected=True, state=2, error=0, ret1=(0, 2). ret2=(0, [0, 0])\n",
      "[2023-07-21 15:44:39][101] (0) ----> [559.590149, 15.291673, 143.041214, -148.524583, 30.021384, -123.720725]\n",
      "[2023-07-21 15:44:39][96] Robot is already alive: False\n",
      "[2023-07-21 15:44:39][98] Move   0: [622.324524, -19.326902, 38.341522, -153.866555, 28.627894, -127.381753]\n",
      "[2023-07-21 15:44:39][67] set_position, code=0, connected=True, state=2, error=0, ret1=(0, 2). ret2=(0, [0, 0])\n",
      "[2023-07-21 15:44:39][101] (0) ----> [622.324524, -19.326902, 38.341526, -153.866613, 28.627894, -127.381753]\n",
      "[2023-07-21 15:44:39][96] Robot is already alive: False\n",
      "[2023-07-21 15:44:39][98] Move   0: [468.352417, 15.291691, 134.941605, -148.524583, 30.021384, -123.720725]\n",
      "[2023-07-21 15:44:39][67] set_position, code=0, connected=True, state=2, error=0, ret1=(0, 2). ret2=(0, [0, 0])\n",
      "[2023-07-21 15:44:39][101] (0) ----> [559.590759, 15.291673, 134.942215, -148.524411, 30.021212, -123.720438]\n",
      "[2023-07-21 15:44:39][96] Robot is already alive: False\n",
      "[2023-07-21 15:44:39][98] Move   0: [528.529663, -19.326597, 38.341522, -153.866613, 28.627894, -127.381753]\n",
      "[2023-07-21 15:44:41][67] set_position, code=0, connected=True, state=2, error=0, ret1=(0, 2). ret2=(0, [0, 0])\n",
      "[2023-07-21 15:44:41][101] (0) ----> [528.529663, -19.326597, 38.341522, -153.866555, 28.627894, -127.381753]\n",
      "[2023-07-21 15:44:41][96] Robot is already alive: False\n",
      "[2023-07-21 15:44:41][98] Move   0: [468.352417, 15.291691, 143.041199, -148.524583, 30.021384, -123.720725]\n",
      "[2023-07-21 15:44:41][67] set_position, code=0, connected=True, state=2, error=0, ret1=(0, 2). ret2=(0, [0, 0])\n",
      "[2023-07-21 15:44:41][101] (0) ----> [468.353027, 15.291691, 134.941605, -148.524583, 30.021384, -123.720725]\n",
      "[2023-07-21 15:44:41][96] Robot is already alive: False\n",
      "[2023-07-21 15:44:41][98] Move   0: [528.529663, -19.326597, 44.763256, -153.866613, 28.627894, -127.381753]\n",
      "[2023-07-21 15:44:41][67] set_position, code=0, connected=True, state=2, error=0, ret1=(0, 2). ret2=(0, [0, 0])\n",
      "[2023-07-21 15:44:41][101] (0) ----> [528.529663, -19.326597, 44.763256, -153.866613, 28.627894, -127.381753]\n",
      "[2023-07-21 15:44:42][96] Robot is already alive: False\n",
      "[2023-07-21 15:44:42][98] Move   0: [559.590759, 15.291673, 143.041214, -148.524583, 30.021384, -123.720725]\n",
      "[2023-07-21 15:44:42][67] set_position, code=0, connected=True, state=2, error=0, ret1=(0, 2). ret2=(0, [0, 0])\n",
      "[2023-07-21 15:44:42][101] (0) ----> [468.352417, 15.291691, 143.040588, -148.524583, 30.021384, -123.720725]\n",
      "[2023-07-21 15:44:42][96] Robot is already alive: False\n",
      "[2023-07-21 15:44:42][98] Move   0: [622.324585, -19.32655, 44.763309, -153.866613, 28.627894, -127.381753]\n",
      "[2023-07-21 15:44:43][67] set_position, code=0, connected=True, state=2, error=0, ret1=(0, 2). ret2=(0, [0, 0])\n",
      "[2023-07-21 15:44:43][101] (0) ----> [622.324585, -19.32655, 44.763317, -153.866613, 28.627894, -127.381753]\n",
      "[2023-07-21 15:44:43][96] Robot is already alive: False\n",
      "[2023-07-21 15:44:43][98] Move   0: [559.590759, 15.291673, 132.941605, -148.524411, 30.021212, -123.720438]\n",
      "[2023-07-21 15:44:43][67] set_position, code=0, connected=True, state=2, error=0, ret1=(0, 2). ret2=(0, [0, 0])\n",
      "[2023-07-21 15:44:43][101] (0) ----> [559.590149, 15.291673, 143.041214, -148.524583, 30.021384, -123.720725]\n",
      "[2023-07-21 15:44:43][96] Robot is already alive: False\n",
      "[2023-07-21 15:44:43][98] Move   0: [622.324524, -19.326902, 36.341522, -153.866555, 28.627894, -127.381753]\n",
      "[2023-07-21 15:44:43][67] set_position, code=0, connected=True, state=2, error=0, ret1=(0, 2). ret2=(0, [0, 0])\n",
      "[2023-07-21 15:44:43][101] (0) ----> [622.324524, -19.326902, 36.341526, -153.866613, 28.627894, -127.381753]\n",
      "[2023-07-21 15:44:43][96] Robot is already alive: False\n",
      "[2023-07-21 15:44:43][98] Move   0: [468.352417, 15.291691, 132.941605, -148.524583, 30.021384, -123.720725]\n",
      "[2023-07-21 15:44:43][67] set_position, code=0, connected=True, state=2, error=0, ret1=(0, 2). ret2=(0, [0, 0])\n",
      "[2023-07-21 15:44:43][101] (0) ----> [559.590759, 15.291673, 132.9422, -148.524411, 30.021212, -123.720438]\n",
      "[2023-07-21 15:44:43][96] Robot is already alive: False\n",
      "[2023-07-21 15:44:43][98] Move   0: [528.529663, -19.326597, 36.341522, -153.866613, 28.627894, -127.381753]\n",
      "[2023-07-21 15:44:45][67] set_position, code=0, connected=True, state=2, error=0, ret1=(0, 2). ret2=(0, [0, 0])\n",
      "[2023-07-21 15:44:45][101] (0) ----> [528.529663, -19.326597, 36.341522, -153.866555, 28.627894, -127.381753]\n",
      "[2023-07-21 15:44:45][96] Robot is already alive: False\n",
      "[2023-07-21 15:44:45][98] Move   0: [468.352417, 15.291691, 143.041199, -148.524583, 30.021384, -123.720725]\n",
      "[2023-07-21 15:44:45][67] set_position, code=0, connected=True, state=2, error=0, ret1=(0, 2). ret2=(0, [0, 0])\n",
      "[2023-07-21 15:44:45][101] (0) ----> [468.353027, 15.291691, 132.941605, -148.524583, 30.021384, -123.720725]\n",
      "[2023-07-21 15:44:45][96] Robot is already alive: False\n",
      "[2023-07-21 15:44:45][98] Move   0: [528.529663, -19.326597, 44.763256, -153.866613, 28.627894, -127.381753]\n",
      "[2023-07-21 15:44:45][67] set_position, code=0, connected=True, state=2, error=0, ret1=(0, 2). ret2=(0, [0, 0])\n",
      "[2023-07-21 15:44:45][101] (0) ----> [528.529663, -19.326597, 44.763256, -153.866613, 28.627894, -127.381753]\n",
      "[2023-07-21 15:44:46][96] Robot is already alive: False\n",
      "[2023-07-21 15:44:46][98] Move   0: [559.590759, 15.291673, 143.041214, -148.524583, 30.021384, -123.720725]\n",
      "[2023-07-21 15:44:46][67] set_position, code=0, connected=True, state=2, error=0, ret1=(0, 2). ret2=(0, [0, 0])\n",
      "[2023-07-21 15:44:46][101] (0) ----> [468.352417, 15.291691, 143.040604, -148.524583, 30.021384, -123.720725]\n",
      "[2023-07-21 15:44:46][96] Robot is already alive: False\n",
      "[2023-07-21 15:44:46][98] Move   0: [622.324585, -19.32655, 44.763309, -153.866613, 28.627894, -127.381753]\n",
      "[2023-07-21 15:44:47][67] set_position, code=0, connected=True, state=2, error=0, ret1=(0, 2). ret2=(0, [0, 0])\n",
      "[2023-07-21 15:44:47][101] (0) ----> [622.324585, -19.32655, 44.763317, -153.866613, 28.627894, -127.381753]\n",
      "[2023-07-21 15:44:47][96] Robot is already alive: False\n",
      "[2023-07-21 15:44:47][98] Move   0: [559.590759, 15.291673, 130.941605, -148.524411, 30.021212, -123.720438]\n",
      "[2023-07-21 15:44:47][67] set_position, code=0, connected=True, state=2, error=0, ret1=(0, 2). ret2=(0, [0, 0])\n",
      "[2023-07-21 15:44:47][101] (0) ----> [559.590149, 15.291673, 143.041214, -148.524583, 30.021384, -123.720725]\n",
      "[2023-07-21 15:44:47][96] Robot is already alive: False\n",
      "[2023-07-21 15:44:47][98] Move   0: [622.324524, -19.326902, 34.341522, -153.866555, 28.627894, -127.381753]\n",
      "[2023-07-21 15:44:48][67] set_position, code=0, connected=True, state=2, error=0, ret1=(0, 2). ret2=(0, [0, 0])\n",
      "[2023-07-21 15:44:48][101] (0) ----> [622.324524, -19.326902, 34.341564, -153.866613, 28.627894, -127.381753]\n",
      "[2023-07-21 15:44:48][96] Robot is already alive: False\n",
      "[2023-07-21 15:44:48][98] Move   0: [468.352417, 15.291691, 130.941605, -148.524583, 30.021384, -123.720725]\n",
      "[2023-07-21 15:44:48][67] set_position, code=0, connected=True, state=2, error=0, ret1=(0, 2). ret2=(0, [0, 0])\n",
      "[2023-07-21 15:44:48][101] (0) ----> [559.590759, 15.291673, 130.9422, -148.524411, 30.021212, -123.720438]\n",
      "[2023-07-21 15:44:48][96] Robot is already alive: False\n",
      "[2023-07-21 15:44:48][98] Move   0: [528.529663, -19.326597, 34.341522, -153.866613, 28.627894, -127.381753]\n",
      "[2023-07-21 15:44:49][67] set_position, code=0, connected=True, state=2, error=0, ret1=(0, 2). ret2=(0, [0, 0])\n",
      "[2023-07-21 15:44:49][101] (0) ----> [528.529663, -19.326597, 34.341522, -153.866555, 28.627894, -127.381753]\n",
      "[2023-07-21 15:44:49][96] Robot is already alive: False\n",
      "[2023-07-21 15:44:49][98] Move   0: [468.352417, 15.291691, 143.041199, -148.524583, 30.021384, -123.720725]\n",
      "[2023-07-21 15:44:49][67] set_position, code=0, connected=True, state=2, error=0, ret1=(0, 2). ret2=(0, [0, 0])\n",
      "[2023-07-21 15:44:49][101] (0) ----> [468.353027, 15.291691, 130.941605, -148.524583, 30.021384, -123.720725]\n",
      "[2023-07-21 15:44:49][96] Robot is already alive: False\n",
      "[2023-07-21 15:44:49][98] Move   0: [528.529663, -19.326597, 44.763256, -153.866613, 28.627894, -127.381753]\n",
      "[2023-07-21 15:44:50][67] set_position, code=0, connected=True, state=2, error=0, ret1=(0, 2). ret2=(0, [0, 0])\n",
      "[2023-07-21 15:44:50][101] (0) ----> [528.529663, -19.326597, 44.763218, -153.866613, 28.627894, -127.381753]\n",
      "[2023-07-21 15:44:50][96] Robot is already alive: False\n",
      "[2023-07-21 15:44:50][98] Move   0: [559.590759, 15.291673, 143.041214, -148.524583, 30.021384, -123.720725]\n",
      "[2023-07-21 15:44:50][67] set_position, code=0, connected=True, state=2, error=0, ret1=(0, 2). ret2=(0, [0, 0])\n",
      "[2023-07-21 15:44:50][101] (0) ----> [468.352417, 15.291691, 143.040604, -148.524583, 30.021384, -123.720725]\n",
      "[2023-07-21 15:44:50][96] Robot is already alive: False\n",
      "[2023-07-21 15:44:50][98] Move   0: [622.324585, -19.32655, 44.763309, -153.866613, 28.627894, -127.381753]\n",
      "[2023-07-21 15:44:52][67] set_position, code=0, connected=True, state=2, error=0, ret1=(0, 2). ret2=(0, [0, 0])\n",
      "[2023-07-21 15:44:52][101] (0) ----> [622.324585, -19.32655, 44.763317, -153.866613, 28.627894, -127.381753]\n"
     ]
    }
   ],
   "source": []
  },
  {
   "cell_type": "code",
   "execution_count": null,
   "id": "e37f0ba3-f976-4eed-99fe-81d6008b7a1a",
   "metadata": {},
   "outputs": [],
   "source": []
  },
  {
   "cell_type": "code",
   "execution_count": 318,
   "id": "33427594-41b5-4973-9f43-263023a2e347",
   "metadata": {
    "collapsed": true,
    "jupyter": {
     "outputs_hidden": true
    },
    "tags": []
   },
   "outputs": [
    {
     "name": "stdout",
     "output_type": "stream",
     "text": [
      "[2023-07-21 15:44:56][96] Robot is already alive: False\n",
      "[2023-07-21 15:44:56][98] Move   0: [557.59137, 15.291856, 147.040756, 145.644382, -26.557682, 62.349267]\n",
      "[2023-07-21 15:44:56][67] set_position, code=0, connected=True, state=2, error=0, ret1=(0, 2). ret2=(0, [0, 0])\n",
      "[2023-07-21 15:44:56][101] (0) ----> [559.590149, 15.291673, 143.041214, -148.524583, 30.021384, -123.720725]\n",
      "[2023-07-21 15:44:56][96] Robot is already alive: False\n",
      "[2023-07-21 15:44:56][98] Move   0: [619.324402, -15.28826, 43.34127, 154.214799, -28.936489, 51.895079]\n",
      "[2023-07-21 15:45:06][67] set_position, code=0, connected=True, state=2, error=0, ret1=(0, 2). ret2=(0, [0, 0])\n",
      "[2023-07-21 15:45:06][101] (0) ----> [619.324402, -15.288267, 43.341274, 154.214971, -28.936603, 51.894793]\n",
      "[2023-07-21 15:45:06][96] Robot is already alive: False\n",
      "[2023-07-21 15:45:06][98] Move   0: [557.590759, 15.291826, 139.356995, 145.644382, -26.557682, 62.349267]\n",
      "[2023-07-21 15:45:06][67] set_position, code=0, connected=True, state=2, error=0, ret1=(0, 2). ret2=(0, [0, 0])\n",
      "[2023-07-21 15:45:06][101] (0) ----> [557.59137, 15.291856, 147.040756, 145.644267, -26.557511, 62.349554]\n",
      "[2023-07-21 15:45:06][96] Robot is already alive: False\n",
      "[2023-07-21 15:45:06][98] Move   0: [619.324402, -15.288254, 35.341209, 154.214799, -28.936431, 51.895079]\n",
      "[2023-07-21 15:45:07][67] set_position, code=0, connected=True, state=2, error=0, ret1=(0, 2). ret2=(0, [0, 0])\n",
      "[2023-07-21 15:45:07][101] (0) ----> [619.324402, -15.288254, 35.341209, 154.214799, -28.936489, 51.895079]\n",
      "[2023-07-21 15:45:07][96] Robot is already alive: False\n",
      "[2023-07-21 15:45:07][98] Move   0: [468.352417, 15.291855, 141.356369, 145.644382, -26.557682, 62.349267]\n",
      "[2023-07-21 15:45:07][67] set_position, code=0, connected=True, state=2, error=0, ret1=(0, 2). ret2=(0, [0, 0])\n",
      "[2023-07-21 15:45:07][101] (0) ----> [557.590759, 15.291826, 139.35759, 145.644382, -26.557682, 62.349267]\n",
      "[2023-07-21 15:45:07][96] Robot is already alive: False\n",
      "[2023-07-21 15:45:07][98] Move   0: [528.529663, -15.28826, 38.341522, 154.214799, -28.936489, 51.895079]\n",
      "[2023-07-21 15:45:08][67] set_position, code=0, connected=True, state=2, error=0, ret1=(0, 2). ret2=(0, [0, 0])\n",
      "[2023-07-21 15:45:08][101] (0) ----> [528.529663, -15.288257, 38.341549, 154.214799, -28.936431, 51.895079]\n",
      "[2023-07-21 15:45:08][96] Robot is already alive: False\n",
      "[2023-07-21 15:45:08][98] Move   0: [468.352417, 15.291856, 147.040756, 145.644382, -26.557682, 62.349267]\n",
      "[2023-07-21 15:45:08][67] set_position, code=0, connected=True, state=2, error=0, ret1=(0, 2). ret2=(0, [0, 0])\n",
      "[2023-07-21 15:45:08][101] (0) ----> [468.353027, 15.291852, 141.356354, 145.644382, -26.557682, 62.349267]\n",
      "[2023-07-21 15:45:08][96] Robot is already alive: False\n",
      "[2023-07-21 15:45:08][98] Move   0: [528.529663, -15.28826, 43.34127, 154.214799, -28.936489, 51.895079]\n",
      "[2023-07-21 15:45:09][67] set_position, code=0, connected=True, state=2, error=0, ret1=(0, 2). ret2=(0, [0, 0])\n",
      "[2023-07-21 15:45:09][101] (0) ----> [528.529663, -15.288258, 43.341286, 154.214799, -28.936489, 51.895079]\n",
      "[2023-07-21 15:45:09][96] Robot is already alive: False\n",
      "[2023-07-21 15:45:09][98] Move   0: [557.59137, 15.291856, 147.040756, 145.644382, -26.557682, 62.349267]\n",
      "[2023-07-21 15:45:09][67] set_position, code=0, connected=True, state=2, error=0, ret1=(0, 2). ret2=(0, [0, 0])\n",
      "[2023-07-21 15:45:09][101] (0) ----> [468.352417, 15.291854, 147.040161, 145.644382, -26.557682, 62.349267]\n",
      "[2023-07-21 15:45:09][96] Robot is already alive: False\n",
      "[2023-07-21 15:45:09][98] Move   0: [619.324402, -15.28826, 43.34127, 154.214799, -28.936489, 51.895079]\n",
      "[2023-07-21 15:45:10][67] set_position, code=0, connected=True, state=2, error=0, ret1=(0, 2). ret2=(0, [0, 0])\n",
      "[2023-07-21 15:45:10][101] (0) ----> [619.324402, -15.288258, 43.34129, 154.214799, -28.936489, 51.895079]\n",
      "[2023-07-21 15:45:10][96] Robot is already alive: False\n",
      "[2023-07-21 15:45:10][98] Move   0: [557.590759, 15.291826, 137.356995, 145.644382, -26.557682, 62.349267]\n",
      "[2023-07-21 15:45:10][67] set_position, code=0, connected=True, state=2, error=0, ret1=(0, 2). ret2=(0, [0, 0])\n",
      "[2023-07-21 15:45:10][101] (0) ----> [557.590759, 15.291855, 147.040756, 145.644382, -26.557682, 62.349267]\n",
      "[2023-07-21 15:45:10][96] Robot is already alive: False\n",
      "[2023-07-21 15:45:10][98] Move   0: [619.324402, -15.288254, 33.341209, 154.214799, -28.936431, 51.895079]\n",
      "[2023-07-21 15:45:11][67] set_position, code=0, connected=True, state=2, error=0, ret1=(0, 2). ret2=(0, [0, 0])\n",
      "[2023-07-21 15:45:11][101] (0) ----> [619.324402, -15.288253, 33.341217, 154.214799, -28.936489, 51.895079]\n",
      "[2023-07-21 15:45:11][96] Robot is already alive: False\n",
      "[2023-07-21 15:45:11][98] Move   0: [468.352417, 15.291855, 139.356369, 145.644382, -26.557682, 62.349267]\n",
      "[2023-07-21 15:45:11][67] set_position, code=0, connected=True, state=2, error=0, ret1=(0, 2). ret2=(0, [0, 0])\n",
      "[2023-07-21 15:45:11][101] (0) ----> [557.590759, 15.291826, 137.357605, 145.644382, -26.557682, 62.349267]\n",
      "[2023-07-21 15:45:11][96] Robot is already alive: False\n",
      "[2023-07-21 15:45:11][98] Move   0: [528.529663, -15.28826, 36.341522, 154.214799, -28.936489, 51.895079]\n",
      "[2023-07-21 15:45:12][67] set_position, code=0, connected=True, state=2, error=0, ret1=(0, 2). ret2=(0, [0, 0])\n",
      "[2023-07-21 15:45:12][101] (0) ----> [528.529663, -15.288258, 36.341537, 154.214799, -28.936431, 51.895079]\n",
      "[2023-07-21 15:45:12][96] Robot is already alive: False\n",
      "[2023-07-21 15:45:12][98] Move   0: [468.352417, 15.291856, 147.040756, 145.644382, -26.557682, 62.349267]\n",
      "[2023-07-21 15:45:12][67] set_position, code=0, connected=True, state=2, error=0, ret1=(0, 2). ret2=(0, [0, 0])\n",
      "[2023-07-21 15:45:12][101] (0) ----> [468.353027, 15.291853, 139.356354, 145.644382, -26.557682, 62.349267]\n",
      "[2023-07-21 15:45:12][96] Robot is already alive: False\n",
      "[2023-07-21 15:45:12][98] Move   0: [528.529663, -15.28826, 43.34127, 154.214799, -28.936489, 51.895079]\n",
      "[2023-07-21 15:45:13][67] set_position, code=0, connected=True, state=2, error=0, ret1=(0, 2). ret2=(0, [0, 0])\n",
      "[2023-07-21 15:45:13][101] (0) ----> [528.529663, -15.288259, 43.341282, 154.214799, -28.936489, 51.895079]\n",
      "[2023-07-21 15:45:13][96] Robot is already alive: False\n",
      "[2023-07-21 15:45:13][98] Move   0: [557.59137, 15.291856, 147.040756, 145.644382, -26.557682, 62.349267]\n",
      "[2023-07-21 15:45:13][67] set_position, code=0, connected=True, state=2, error=0, ret1=(0, 2). ret2=(0, [0, 0])\n",
      "[2023-07-21 15:45:13][101] (0) ----> [468.352417, 15.291855, 147.040161, 145.644382, -26.557682, 62.349267]\n",
      "[2023-07-21 15:45:13][96] Robot is already alive: False\n",
      "[2023-07-21 15:45:13][98] Move   0: [619.324402, -15.28826, 43.34127, 154.214799, -28.936489, 51.895079]\n",
      "[2023-07-21 15:45:15][67] set_position, code=0, connected=True, state=2, error=0, ret1=(0, 2). ret2=(0, [0, 0])\n",
      "[2023-07-21 15:45:15][101] (0) ----> [619.324402, -15.288256, 43.341297, 154.214799, -28.936489, 51.895079]\n",
      "[2023-07-21 15:45:15][96] Robot is already alive: False\n",
      "[2023-07-21 15:45:15][98] Move   0: [557.590759, 15.291826, 135.356995, 145.644382, -26.557682, 62.349267]\n",
      "[2023-07-21 15:45:15][67] set_position, code=0, connected=True, state=2, error=0, ret1=(0, 2). ret2=(0, [0, 0])\n",
      "[2023-07-21 15:45:15][101] (0) ----> [557.590759, 15.291854, 147.040756, 145.644382, -26.557682, 62.349267]\n",
      "[2023-07-21 15:45:15][96] Robot is already alive: False\n",
      "[2023-07-21 15:45:15][98] Move   0: [619.324402, -15.288254, 31.341209, 154.214799, -28.936431, 51.895079]\n",
      "[2023-07-21 15:45:15][67] set_position, code=0, connected=True, state=2, error=0, ret1=(0, 2). ret2=(0, [0, 0])\n",
      "[2023-07-21 15:45:15][101] (0) ----> [619.324402, -15.288252, 31.341217, 154.214799, -28.936489, 51.895079]\n",
      "[2023-07-21 15:45:15][96] Robot is already alive: False\n",
      "[2023-07-21 15:45:15][98] Move   0: [468.352417, 15.291855, 137.356369, 145.644382, -26.557682, 62.349267]\n",
      "[2023-07-21 15:45:15][67] set_position, code=0, connected=True, state=2, error=0, ret1=(0, 2). ret2=(0, [0, 0])\n",
      "[2023-07-21 15:45:15][101] (0) ----> [557.590759, 15.291825, 135.35759, 145.644382, -26.557682, 62.349267]\n",
      "[2023-07-21 15:45:15][96] Robot is already alive: False\n",
      "[2023-07-21 15:45:15][98] Move   0: [528.529663, -15.28826, 34.341522, 154.214799, -28.936489, 51.895079]\n",
      "[2023-07-21 15:45:17][67] set_position, code=0, connected=True, state=2, error=0, ret1=(0, 2). ret2=(0, [0, 0])\n",
      "[2023-07-21 15:45:17][101] (0) ----> [528.529663, -15.288258, 34.341537, 154.214799, -28.936431, 51.895079]\n",
      "[2023-07-21 15:45:17][96] Robot is already alive: False\n",
      "[2023-07-21 15:45:17][98] Move   0: [468.352417, 15.291856, 147.040756, 145.644382, -26.557682, 62.349267]\n",
      "[2023-07-21 15:45:17][67] set_position, code=0, connected=True, state=2, error=0, ret1=(0, 2). ret2=(0, [0, 0])\n",
      "[2023-07-21 15:45:17][101] (0) ----> [468.353027, 15.291853, 137.356354, 145.644382, -26.557682, 62.349267]\n",
      "[2023-07-21 15:45:17][96] Robot is already alive: False\n",
      "[2023-07-21 15:45:17][98] Move   0: [528.529663, -15.28826, 43.34127, 154.214799, -28.936489, 51.895079]\n",
      "[2023-07-21 15:45:17][67] set_position, code=0, connected=True, state=2, error=0, ret1=(0, 2). ret2=(0, [0, 0])\n",
      "[2023-07-21 15:45:17][101] (0) ----> [528.529663, -15.28826, 43.341278, 154.214799, -28.936489, 51.895079]\n",
      "[2023-07-21 15:45:18][96] Robot is already alive: False\n",
      "[2023-07-21 15:45:18][98] Move   0: [557.59137, 15.291856, 147.040756, 145.644382, -26.557682, 62.349267]\n",
      "[2023-07-21 15:45:18][67] set_position, code=0, connected=True, state=2, error=0, ret1=(0, 2). ret2=(0, [0, 0])\n",
      "[2023-07-21 15:45:18][101] (0) ----> [468.352417, 15.291855, 147.040146, 145.644382, -26.557682, 62.349267]\n",
      "[2023-07-21 15:45:18][96] Robot is already alive: False\n",
      "[2023-07-21 15:45:18][98] Move   0: [619.324402, -15.28826, 43.34127, 154.214799, -28.936489, 51.895079]\n",
      "[2023-07-21 15:45:19][67] set_position, code=0, connected=True, state=2, error=0, ret1=(0, 2). ret2=(0, [0, 0])\n",
      "[2023-07-21 15:45:19][101] (0) ----> [619.324402, -15.288256, 43.341297, 154.214799, -28.936489, 51.895079]\n"
     ]
    }
   ],
   "source": []
  },
  {
   "cell_type": "code",
   "execution_count": null,
   "id": "f63bb31d-11d1-4cc6-a459-85df37fc8687",
   "metadata": {},
   "outputs": [],
   "source": []
  },
  {
   "cell_type": "code",
   "execution_count": null,
   "id": "a6472945-23be-4a33-8236-21b4fd43365b",
   "metadata": {},
   "outputs": [],
   "source": []
  },
  {
   "cell_type": "code",
   "execution_count": 321,
   "id": "f4506c86-55f7-4815-a5f4-b02c7c3ce184",
   "metadata": {
    "collapsed": true,
    "jupyter": {
     "outputs_hidden": true
    },
    "tags": []
   },
   "outputs": [
    {
     "name": "stdout",
     "output_type": "stream",
     "text": [
      "[2023-07-21 15:47:23][96] Robot is already alive: False\n",
      "[2023-07-21 15:47:23][98] Move   0: [622.806274, -42.040241, 142.040878, 143.6278, -27.443762, 147.963486]\n",
      "[2023-07-21 15:47:23][67] set_position, code=0, connected=True, state=2, error=0, ret1=(0, 2). ret2=(0, [0, 0])\n",
      "[2023-07-21 15:47:23][101] (0) ----> [622.805786, -42.040173, 142.041458, 143.6278, -27.44359, 147.963715]\n",
      "[2023-07-21 15:47:23][96] Robot is already alive: False\n",
      "[2023-07-21 15:47:23][98] Move   0: [599.093872, -6.745587, 46.341251, 154.007331, -28.753658, 136.666534]\n",
      "[2023-07-21 15:47:24][67] set_position, code=0, connected=True, state=2, error=0, ret1=(0, 2). ret2=(0, [0, 0])\n",
      "[2023-07-21 15:47:24][101] (0) ----> [599.093872, -6.745584, 46.341351, 154.007331, -28.753658, 136.666534]\n",
      "[2023-07-21 15:47:24][96] Robot is already alive: False\n",
      "[2023-07-21 15:47:24][98] Move   0: [622.806274, -42.040253, 131.912399, 143.6278, -27.443762, 147.963486]\n",
      "[2023-07-21 15:47:24][67] set_position, code=0, connected=True, state=2, error=0, ret1=(0, 2). ret2=(0, [0, 0])\n",
      "[2023-07-21 15:47:24][101] (0) ----> [622.805786, -42.040173, 142.041458, 143.6278, -27.44359, 147.963715]\n",
      "[2023-07-21 15:47:24][96] Robot is already alive: False\n",
      "[2023-07-21 15:47:24][98] Move   0: [599.093933, -6.745624, 36, 154.007331, -28.753658, 136.666534]\n",
      "[2023-07-21 15:47:24][67] set_position, code=0, connected=True, state=2, error=0, ret1=(0, 2). ret2=(0, [0, 0])\n",
      "[2023-07-21 15:47:24][101] (0) ----> [599.093994, -6.745627, 36.000099, 154.007331, -28.753658, 136.666534]\n",
      "[2023-07-21 15:47:24][96] Robot is already alive: False\n",
      "[2023-07-21 15:47:24][98] Move   0: [622.806396, -163.967102, 131.912399, 142.848462, -26.294638, 149.68763]\n",
      "[2023-07-21 15:47:24][67] set_position, code=0, connected=True, state=2, error=0, ret1=(0, 2). ret2=(0, [0, 0])\n",
      "[2023-07-21 15:47:24][101] (0) ----> [622.806274, -42.040253, 131.912994, 143.6278, -27.443762, 147.963486]\n",
      "[2023-07-21 15:47:24][96] Robot is already alive: False\n",
      "[2023-07-21 15:47:24][98] Move   0: [599.093811, -123.963943, 36, 150.007914, -24.515031, 145.567434]\n",
      "[2023-07-21 15:47:26][67] set_position, code=0, connected=True, state=2, error=0, ret1=(0, 2). ret2=(0, [0, 0])\n",
      "[2023-07-21 15:47:26][101] (0) ----> [599.093811, -123.963951, 36.000023, 150.007914, -24.515031, 145.567434]\n",
      "[2023-07-21 15:47:26][96] Robot is already alive: False\n",
      "[2023-07-21 15:47:26][98] Move   0: [622.806396, -163.967102, 142.041367, 142.848462, -26.294638, 149.68763]\n",
      "[2023-07-21 15:47:26][67] set_position, code=0, connected=True, state=2, error=0, ret1=(0, 2). ret2=(0, [0, 0])\n",
      "[2023-07-21 15:47:26][101] (0) ----> [622.806396, -163.966507, 131.912399, 142.848462, -26.294638, 149.68763]\n",
      "[2023-07-21 15:47:26][96] Robot is already alive: False\n",
      "[2023-07-21 15:47:26][98] Move   0: [599.093811, -123.963943, 46.341187, 150.007914, -24.515031, 145.567434]\n",
      "[2023-07-21 15:47:26][67] set_position, code=0, connected=True, state=2, error=0, ret1=(0, 2). ret2=(0, [0, 0])\n",
      "[2023-07-21 15:47:26][101] (0) ----> [599.093811, -123.963951, 46.341206, 150.007914, -24.515031, 145.567434]\n",
      "[2023-07-21 15:47:27][96] Robot is already alive: False\n",
      "[2023-07-21 15:47:27][98] Move   0: [622.806274, -42.040241, 142.040878, 143.6278, -27.443762, 147.963486]\n",
      "[2023-07-21 15:47:27][67] set_position, code=0, connected=True, state=2, error=0, ret1=(0, 2). ret2=(0, [0, 0])\n",
      "[2023-07-21 15:47:27][101] (0) ----> [622.806396, -163.967102, 142.040771, 142.848462, -26.294638, 149.68763]\n",
      "[2023-07-21 15:47:27][96] Robot is already alive: False\n",
      "[2023-07-21 15:47:27][98] Move   0: [599.093872, -6.745587, 46.341251, 154.007331, -28.753658, 136.666534]\n",
      "[2023-07-21 15:47:28][67] set_position, code=0, connected=True, state=2, error=0, ret1=(0, 2). ret2=(0, [0, 0])\n",
      "[2023-07-21 15:47:28][101] (0) ----> [599.093872, -6.745591, 46.341267, 154.007331, -28.753658, 136.666534]\n",
      "[2023-07-21 15:47:28][96] Robot is already alive: False\n",
      "[2023-07-21 15:47:28][98] Move   0: [622.806274, -42.040253, 129.912399, 143.6278, -27.443762, 147.963486]\n",
      "[2023-07-21 15:47:28][67] set_position, code=0, connected=True, state=2, error=0, ret1=(0, 2). ret2=(0, [0, 0])\n",
      "[2023-07-21 15:47:28][101] (0) ----> [622.806274, -42.040836, 142.040878, 143.6278, -27.443762, 147.963486]\n",
      "[2023-07-21 15:47:28][96] Robot is already alive: False\n",
      "[2023-07-21 15:47:28][98] Move   0: [599.093933, -6.745624, 34, 154.007331, -28.753658, 136.666534]\n",
      "[2023-07-21 15:47:29][67] set_position, code=0, connected=True, state=2, error=0, ret1=(0, 2). ret2=(0, [0, 0])\n",
      "[2023-07-21 15:47:29][101] (0) ----> [599.093933, -6.745627, 34.00005, 154.007331, -28.753658, 136.666534]\n",
      "[2023-07-21 15:47:29][96] Robot is already alive: False\n",
      "[2023-07-21 15:47:29][98] Move   0: [622.806396, -163.967102, 129.912399, 142.848462, -26.294638, 149.68763]\n",
      "[2023-07-21 15:47:29][67] set_position, code=0, connected=True, state=2, error=0, ret1=(0, 2). ret2=(0, [0, 0])\n",
      "[2023-07-21 15:47:29][101] (0) ----> [622.806274, -42.040253, 129.91301, 143.6278, -27.443762, 147.963486]\n",
      "[2023-07-21 15:47:29][96] Robot is already alive: False\n",
      "[2023-07-21 15:47:29][98] Move   0: [599.093811, -123.963943, 34, 150.007914, -24.515031, 145.567434]\n",
      "[2023-07-21 15:47:31][67] set_position, code=0, connected=True, state=2, error=0, ret1=(0, 2). ret2=(0, [0, 0])\n",
      "[2023-07-21 15:47:31][101] (0) ----> [599.093811, -123.963943, 34.0, 150.007914, -24.515031, 145.567434]\n",
      "[2023-07-21 15:47:31][96] Robot is already alive: False\n",
      "[2023-07-21 15:47:31][98] Move   0: [622.806396, -163.967102, 142.041367, 142.848462, -26.294638, 149.68763]\n",
      "[2023-07-21 15:47:31][67] set_position, code=0, connected=True, state=2, error=0, ret1=(0, 2). ret2=(0, [0, 0])\n",
      "[2023-07-21 15:47:31][101] (0) ----> [622.806396, -163.966507, 129.912399, 142.848462, -26.294638, 149.68763]\n",
      "[2023-07-21 15:47:31][96] Robot is already alive: False\n",
      "[2023-07-21 15:47:31][98] Move   0: [599.093811, -123.963943, 46.341187, 150.007914, -24.515031, 145.567434]\n",
      "[2023-07-21 15:47:31][67] set_position, code=0, connected=True, state=2, error=0, ret1=(0, 2). ret2=(0, [0, 0])\n",
      "[2023-07-21 15:47:31][101] (0) ----> [599.093811, -123.963943, 46.341187, 150.007914, -24.515031, 145.567434]\n",
      "[2023-07-21 15:47:32][96] Robot is already alive: False\n",
      "[2023-07-21 15:47:32][98] Move   0: [622.806274, -42.040241, 142.040878, 143.6278, -27.443762, 147.963486]\n",
      "[2023-07-21 15:47:32][67] set_position, code=0, connected=True, state=2, error=0, ret1=(0, 2). ret2=(0, [0, 0])\n",
      "[2023-07-21 15:47:32][101] (0) ----> [622.806396, -163.967102, 142.040756, 142.848462, -26.294638, 149.68763]\n",
      "[2023-07-21 15:47:32][96] Robot is already alive: False\n",
      "[2023-07-21 15:47:32][98] Move   0: [599.093872, -6.745587, 46.341251, 154.007331, -28.753658, 136.666534]\n",
      "[2023-07-21 15:47:33][67] set_position, code=0, connected=True, state=2, error=0, ret1=(0, 2). ret2=(0, [0, 0])\n",
      "[2023-07-21 15:47:33][101] (0) ----> [599.093872, -6.745588, 46.341255, 154.007331, -28.753658, 136.666534]\n",
      "[2023-07-21 15:47:33][96] Robot is already alive: False\n",
      "[2023-07-21 15:47:33][98] Move   0: [622.806274, -42.040253, 127.912399, 143.6278, -27.443762, 147.963486]\n",
      "[2023-07-21 15:47:33][67] set_position, code=0, connected=True, state=2, error=0, ret1=(0, 2). ret2=(0, [0, 0])\n",
      "[2023-07-21 15:47:33][101] (0) ----> [622.806274, -42.040836, 142.040878, 143.6278, -27.443762, 147.963486]\n",
      "[2023-07-21 15:47:33][96] Robot is already alive: False\n",
      "[2023-07-21 15:47:33][98] Move   0: [599.093933, -6.745624, 32, 154.007331, -28.753658, 136.666534]\n",
      "[2023-07-21 15:47:34][67] set_position, code=0, connected=True, state=2, error=0, ret1=(0, 2). ret2=(0, [0, 0])\n",
      "[2023-07-21 15:47:34][101] (0) ----> [599.093933, -6.745625, 32.000004, 154.007331, -28.753658, 136.666534]\n",
      "[2023-07-21 15:47:34][96] Robot is already alive: False\n",
      "[2023-07-21 15:47:34][98] Move   0: [622.806396, -163.967102, 127.912399, 142.848462, -26.294638, 149.68763]\n",
      "[2023-07-21 15:47:34][67] set_position, code=0, connected=True, state=2, error=0, ret1=(0, 2). ret2=(0, [0, 0])\n",
      "[2023-07-21 15:47:34][101] (0) ----> [622.806274, -42.040253, 127.913002, 143.6278, -27.443762, 147.963486]\n",
      "[2023-07-21 15:47:34][96] Robot is already alive: False\n",
      "[2023-07-21 15:47:34][98] Move   0: [599.093811, -123.963943, 32, 150.007914, -24.515031, 145.567434]\n",
      "[2023-07-21 15:47:35][67] set_position, code=0, connected=True, state=2, error=0, ret1=(0, 2). ret2=(0, [0, 0])\n",
      "[2023-07-21 15:47:35][101] (0) ----> [599.093811, -123.963943, 32.0, 150.007914, -24.515031, 145.567434]\n",
      "[2023-07-21 15:47:35][96] Robot is already alive: False\n",
      "[2023-07-21 15:47:35][98] Move   0: [622.806396, -163.967102, 142.041367, 142.848462, -26.294638, 149.68763]\n",
      "[2023-07-21 15:47:35][67] set_position, code=0, connected=True, state=2, error=0, ret1=(0, 2). ret2=(0, [0, 0])\n",
      "[2023-07-21 15:47:35][101] (0) ----> [622.806396, -163.966507, 127.912399, 142.848462, -26.294638, 149.68763]\n",
      "[2023-07-21 15:47:35][96] Robot is already alive: False\n",
      "[2023-07-21 15:47:35][98] Move   0: [599.093811, -123.963943, 46.341187, 150.007914, -24.515031, 145.567434]\n",
      "[2023-07-21 15:47:36][67] set_position, code=0, connected=True, state=2, error=0, ret1=(0, 2). ret2=(0, [0, 0])\n",
      "[2023-07-21 15:47:36][101] (0) ----> [599.093811, -123.963943, 46.341187, 150.007914, -24.515031, 145.567434]\n",
      "[2023-07-21 15:47:36][96] Robot is already alive: False\n",
      "[2023-07-21 15:47:36][98] Move   0: [622.806274, -42.040241, 142.040878, 143.6278, -27.443762, 147.963486]\n",
      "[2023-07-21 15:47:36][67] set_position, code=0, connected=True, state=2, error=0, ret1=(0, 2). ret2=(0, [0, 0])\n",
      "[2023-07-21 15:47:36][101] (0) ----> [622.806396, -163.967102, 142.040756, 142.848462, -26.294638, 149.68763]\n",
      "[2023-07-21 15:47:36][96] Robot is already alive: False\n",
      "[2023-07-21 15:47:36][98] Move   0: [599.093872, -6.745587, 46.341251, 154.007331, -28.753658, 136.666534]\n",
      "[2023-07-21 15:47:38][67] set_position, code=0, connected=True, state=2, error=0, ret1=(0, 2). ret2=(0, [0, 0])\n",
      "[2023-07-21 15:47:38][101] (0) ----> [599.093872, -6.745587, 46.341251, 154.007331, -28.753658, 136.666534]\n"
     ]
    }
   ],
   "source": []
  },
  {
   "cell_type": "code",
   "execution_count": null,
   "id": "df07371c-e73b-4bec-b57a-b15a5f7b759c",
   "metadata": {},
   "outputs": [],
   "source": []
  },
  {
   "cell_type": "code",
   "execution_count": null,
   "id": "385721c3-5549-49ee-977c-6cf65a05a6c8",
   "metadata": {},
   "outputs": [],
   "source": []
  },
  {
   "cell_type": "code",
   "execution_count": null,
   "id": "64721cf7-41cb-47f4-84c2-6cb76379c8cc",
   "metadata": {},
   "outputs": [],
   "source": []
  },
  {
   "cell_type": "code",
   "execution_count": null,
   "id": "b9ad0b8a-52aa-46c0-8b1c-a8d9d64b2365",
   "metadata": {},
   "outputs": [],
   "source": []
  },
  {
   "cell_type": "code",
   "execution_count": null,
   "id": "c7a1a536-ce62-4bf9-bdfc-4d83a99c45b5",
   "metadata": {},
   "outputs": [],
   "source": []
  },
  {
   "cell_type": "code",
   "execution_count": null,
   "id": "8dbb6f54-7d49-4147-93ac-5a42dee0ca62",
   "metadata": {},
   "outputs": [],
   "source": []
  },
  {
   "cell_type": "code",
   "execution_count": null,
   "id": "5f110343-089d-4e2a-8c70-09b5f6ca4428",
   "metadata": {},
   "outputs": [],
   "source": [
    "left_robot.linear_move([left_round_y_center], wait=False)\n",
    "right_robot.linear_move([right_round_y_center])\n",
    "\n",
    "motion(left_round_y_center, left_round_y_center_down, left_round_y_back, left_round_y_back_down,\n",
    "       right_round_y_center, right_round_y_center_down, right_round_y_back, right_round_y_back_down, 3, 2)\n",
    "\n",
    "left_robot.linear_move([left_round_y_back], wait=False)\n",
    "right_robot.linear_move([right_round_y_back])\n",
    "\n",
    "left_robot.linear_move([left_round_x_center], wait=False)\n",
    "right_robot.linear_move([right_round_x_center])\n",
    "\n",
    "motion(left_round_x_center, left_round_x_center_down, left_round_x_back, left_round_x_back_down,\n",
    "       right_round_x_center, right_round_x_center_down, right_round_x_back, right_round_x_back_down, 3, 2)\n",
    "\n",
    "left_robot.linear_move([left_round_x_back], wait=False)\n",
    "right_robot.linear_move([right_round_x_back])\n",
    "\n",
    "left_robot.linear_move([left_round_xy_center], wait=False)\n",
    "right_robot.linear_move([right_round_xy_center])\n",
    "\n",
    "motion(left_round_xy_center, left_round_xy_center_down, left_round_xy_back, left_round_xy_back_down,\n",
    "       right_round_xy_center, right_round_xy_center_down, right_round_xy_back, right_round_xy_back_down, 3, 2)\n",
    "\n",
    "left_robot.linear_move([left_round_xy_back], wait=False)\n",
    "right_robot.linear_move([right_round_xy_back])\n",
    "\n",
    "left_robot.linear_move([left_round_x_back], wait=False)\n",
    "right_robot.linear_move([right_round_x_back])\n",
    "\n",
    "left_robot.linear_move([left_round_x_center], wait=False)\n",
    "right_robot.linear_move([right_round_x_center])\n",
    "\n",
    "left_robot.linear_move([left_round_y_back], wait=False)\n",
    "right_robot.linear_move([right_round_y_back])\n",
    "\n",
    "left_robot.linear_move([left_round_y_center], wait=False)\n",
    "right_robot.linear_move([right_round_y_center])\n",
    "\n",
    "left_robot.linear_move([left_sharp_y_center], wait=False)\n",
    "right_robot.linear_move([right_sharp_y_center])\n",
    "\n",
    "motion(left_sharp_y_center, left_sharp_y_center_down, left_sharp_y_back, left_sharp_y_back_down,\n",
    "       right_sharp_y_center, right_sharp_y_center_down, right_sharp_y_back, right_sharp_y_back_down, 3, 2)\n",
    "\n",
    "left_robot.linear_move([left_sharp_y_back], wait=False)\n",
    "right_robot.linear_move([right_sharp_y_back])\n",
    "\n",
    "left_robot.linear_move([left_sharp_x_center], wait=False)\n",
    "right_robot.linear_move([right_sharp_x_center])\n",
    "\n",
    "motion(left_sharp_x_center, left_sharp_x_center_down, left_sharp_x_back, left_sharp_x_back_down,\n",
    "       right_sharp_x_center, right_sharp_x_center_down, right_sharp_x_back, right_sharp_x_back_down, 3, 2)\n",
    "\n",
    "left_robot.linear_move([left_sharp_x_back], wait=False)\n",
    "right_robot.linear_move([right_sharp_x_back])\n",
    "\n",
    "left_robot.linear_move([left_sharp_xy_center], wait=False)\n",
    "right_robot.linear_move([right_sharp_xy_center])\n",
    "\n",
    "motion(left_sharp_xy_center, left_sharp_xy_center_down, left_sharp_xy_back, left_sharp_xy_back_down,\n",
    "       right_sharp_xy_center, right_sharp_xy_center_down, right_sharp_xy_back, right_sharp_xy_back_down, 3, 2)\n",
    "\n",
    "left_robot.linear_move([left_sharp_xy_center], wait=False)\n",
    "right_robot.linear_move([right_sharp_xy_center])\n",
    "\n",
    "left_robot.linear_move([left_sharp_x_back], wait=False)\n",
    "right_robot.linear_move([right_sharp_x_back])\n",
    "\n",
    "left_robot.linear_move([left_sharp_x_center], wait=False)\n",
    "right_robot.linear_move([right_sharp_x_center])\n",
    "\n",
    "left_robot.linear_move([left_sharp_y_back], wait=False)\n",
    "right_robot.linear_move([right_sharp_y_back])\n",
    "\n",
    "left_robot.linear_move([left_sharp_y_center], wait=False)\n",
    "right_robot.linear_move([right_sharp_y_center])\n",
    "\n",
    "left_robot.linear_move([left_round_y_center], wait=False)\n",
    "right_robot.linear_move([right_round_y_center])\n"
   ]
  },
  {
   "cell_type": "code",
   "execution_count": 577,
   "id": "68a6a2c1-3d2a-427d-bf53-91e28a08b74e",
   "metadata": {
    "tags": []
   },
   "outputs": [
    {
     "name": "stdout",
     "output_type": "stream",
     "text": [
      "[2023-07-21 18:05:50][96] Robot is already alive: False\n",
      "[2023-07-21 18:05:50][98] Move   0: [622.806396, -42.040199, 142.041245, -146.58134, 31.117223, -38.068061]\n",
      "[2023-07-21 18:05:50][67] set_position, code=0, connected=True, state=2, error=0, ret1=(0, 2). ret2=(0, [0, 0])\n",
      "[2023-07-21 18:05:50][101] (0) ----> [358.071625, -0.0, 271.910065, 180.00002, -0.0, -0.0]\n",
      "[2023-07-21 18:05:50][96] Robot is already alive: False\n",
      "[2023-07-21 18:05:50][98] Move   0: [599.093933, -6.745806, 46.341305, -153.866555, 28.627894, -43.04036]\n",
      "[2023-07-21 18:05:53][67] set_position, code=0, connected=True, state=2, error=0, ret1=(0, 2). ret2=(0, [0, 0])\n",
      "[2023-07-21 18:05:53][101] (0) ----> [599.093933, -6.745806, 46.341316, -153.866555, 28.627894, -43.04036]\n",
      "[2023-07-21 18:05:53][96] Robot is already alive: False\n",
      "[2023-07-21 18:05:53][98] Move   0: [622.806335, -163.967209, 142.041214, -146.58134, 31.117223, -38.068061]\n",
      "[2023-07-21 18:05:53][67] set_position, code=0, connected=True, state=1, error=0, ret1=(0, 1). ret2=(0, [0, 0])\n",
      "[2023-07-21 18:05:53][101] (0) ----> [621.938416, -41.902576, 142.466934, -146.663788, 30.985328, -37.962522]\n",
      "[2023-07-21 18:05:53][96] Robot is already alive: False\n",
      "[2023-07-21 18:05:53][98] Move   0: [599.093933, -123.964081, 46.341267, -153.866555, 28.627894, -43.04036]\n",
      "[2023-07-21 18:05:55][67] set_position, code=0, connected=True, state=2, error=0, ret1=(0, 2). ret2=(0, [0, 0])\n",
      "[2023-07-21 18:05:55][101] (0) ----> [599.093933, -123.964081, 46.34127, -153.866555, 28.627894, -43.04036]\n",
      "[2023-07-21 18:05:55][96] Robot is already alive: False\n",
      "[2023-07-21 18:05:55][98] Move   0: [559.59137, 15.291674, 143.041229, -148.524583, 30.021384, -123.720725]\n",
      "[2023-07-21 18:05:55][67] set_position, code=0, connected=True, state=2, error=0, ret1=(0, 2). ret2=(0, [0, 0])\n",
      "[2023-07-21 18:05:55][101] (0) ----> [622.806335, -163.966614, 142.041214, -146.58134, 31.117223, -38.068061]\n",
      "[2023-07-21 18:05:55][96] Robot is already alive: False\n",
      "[2023-07-21 18:05:55][98] Move   0: [614.858765, -19.32655, 44.763313, -153.866613, 28.627894, -127.381753]\n",
      "[2023-07-21 18:06:00][67] set_position, code=0, connected=True, state=2, error=0, ret1=(0, 2). ret2=(0, [0, 0])\n",
      "[2023-07-21 18:06:00][101] (0) ----> [614.858704, -19.326923, 44.763351, -153.866613, 28.627894, -127.381467]\n",
      "[2023-07-21 18:06:00][96] Robot is already alive: False\n",
      "[2023-07-21 18:06:00][98] Move   0: [468.352417, 15.291691, 143.041199, -148.524583, 30.021384, -123.720725]\n",
      "[2023-07-21 18:06:00][67] set_position, code=0, connected=True, state=2, error=0, ret1=(0, 2). ret2=(0, [0, 0])\n",
      "[2023-07-21 18:06:00][101] (0) ----> [559.591614, 15.291034, 143.04126, -148.524583, 30.021384, -123.720438]\n",
      "[2023-07-21 18:06:00][96] Robot is already alive: False\n",
      "[2023-07-21 18:06:00][98] Move   0: [528.529663, -19.326597, 44.763256, -153.866613, 28.627894, -127.381753]\n",
      "[2023-07-21 18:06:01][67] set_position, code=0, connected=True, state=2, error=0, ret1=(0, 2). ret2=(0, [0, 0])\n",
      "[2023-07-21 18:06:01][101] (0) ----> [528.529663, -19.326595, 44.763264, -153.866613, 28.627894, -127.381753]\n",
      "[2023-07-21 18:06:01][96] Robot is already alive: False\n",
      "[2023-07-21 18:06:01][98] Move   0: [595.031189, -36.275436, 144.468384, -146.58134, 31.117223, -62.629329]\n",
      "[2023-07-21 18:06:01][67] set_position, code=0, connected=True, state=2, error=0, ret1=(0, 2). ret2=(0, [0, 0])\n",
      "[2023-07-21 18:06:01][101] (0) ----> [468.353027, 15.291692, 143.041199, -148.524583, 30.021384, -123.720725]\n",
      "[2023-07-21 18:06:01][96] Robot is already alive: False\n",
      "[2023-07-21 18:06:01][98] Move   0: [606.605652, -6.745358, 44.096127, -152.121498, 26.530983, -68.702911]\n",
      "[2023-07-21 18:06:05][67] set_position, code=0, connected=True, state=2, error=0, ret1=(0, 2). ret2=(0, [0, 0])\n",
      "[2023-07-21 18:06:05][101] (0) ----> [606.605225, -6.745425, 44.096153, -152.121498, 26.530983, -68.703197]\n",
      "[2023-07-21 18:06:05][96] Robot is already alive: False\n",
      "[2023-07-21 18:06:05][98] Move   0: [518.361023, -161.156662, 144.468384, -146.58134, 31.117223, -62.629329]\n",
      "[2023-07-21 18:06:05][67] set_position, code=0, connected=True, state=1, error=0, ret1=(0, 1). ret2=(0, [0, 0])\n",
      "[2023-07-21 18:06:05][101] (0) ----> [594.892212, -36.218956, 144.466843, -146.584033, 31.117109, -62.696594]\n",
      "[2023-07-21 18:06:05][96] Robot is already alive: False\n",
      "[2023-07-21 18:06:05][98] Move   0: [512.559082, -115.024704, 44.096107, -152.121498, 26.530983, -68.702911]\n",
      "[2023-07-21 18:06:06][67] set_position, code=0, connected=True, state=2, error=0, ret1=(0, 2). ret2=(0, [0, 0])\n",
      "[2023-07-21 18:06:06][101] (0) ----> [512.559082, -115.024704, 44.096111, -152.121498, 26.530983, -68.702911]\n",
      "[2023-07-21 18:06:06][96] Robot is already alive: False\n",
      "[2023-07-21 18:06:06][98] Move   0: [468.352417, 15.291691, 143.041199, -148.524583, 30.021384, -123.720725]\n",
      "[2023-07-21 18:06:06][67] set_position, code=0, connected=True, state=2, error=0, ret1=(0, 2). ret2=(0, [0, 0])\n",
      "[2023-07-21 18:06:06][101] (0) ----> [518.361328, -161.156158, 144.468399, -146.58134, 31.117223, -62.629329]\n",
      "[2023-07-21 18:06:06][96] Robot is already alive: False\n",
      "[2023-07-21 18:06:06][98] Move   0: [528.529663, -19.326597, 44.763256, -153.866613, 28.627894, -127.381753]\n",
      "[2023-07-21 18:06:10][67] set_position, code=0, connected=True, state=2, error=0, ret1=(0, 2). ret2=(0, [0, 0])\n",
      "[2023-07-21 18:06:10][101] (0) ----> [528.529663, -19.326588, 44.763283, -153.866613, 28.627894, -127.381753]\n",
      "[2023-07-21 18:06:10][96] Robot is already alive: False\n",
      "[2023-07-21 18:06:10][98] Move   0: [559.59137, 15.291674, 143.041229, -148.524583, 30.021384, -123.720725]\n",
      "[2023-07-21 18:06:10][67] set_position, code=0, connected=True, state=1, error=0, ret1=(0, 1). ret2=(0, [0, 0])\n",
      "[2023-07-21 18:06:10][101] (0) ----> [468.479858, 14.842438, 143.045181, -148.521776, 30.026197, -123.566255]\n",
      "[2023-07-21 18:06:10][96] Robot is already alive: False\n",
      "[2023-07-21 18:06:10][98] Move   0: [614.858765, -19.32655, 44.763313, -153.866613, 28.627894, -127.381753]\n",
      "[2023-07-21 18:06:11][67] set_position, code=0, connected=True, state=2, error=0, ret1=(0, 2). ret2=(0, [0, 0])\n",
      "[2023-07-21 18:06:11][101] (0) ----> [614.858765, -19.326548, 44.763329, -153.866613, 28.627894, -127.381753]\n",
      "[2023-07-21 18:06:11][96] Robot is already alive: False\n",
      "[2023-07-21 18:06:11][98] Move   0: [622.806335, -163.967209, 142.041214, -146.58134, 31.117223, -38.068061]\n",
      "[2023-07-21 18:06:11][67] set_position, code=0, connected=True, state=2, error=0, ret1=(0, 2). ret2=(0, [0, 0])\n",
      "[2023-07-21 18:06:11][101] (0) ----> [559.590759, 15.291684, 143.04126, -148.524583, 30.021384, -123.720725]\n",
      "[2023-07-21 18:06:11][96] Robot is already alive: False\n",
      "[2023-07-21 18:06:11][98] Move   0: [599.093933, -123.964081, 46.341267, -153.866555, 28.627894, -43.04036]\n",
      "[2023-07-21 18:06:16][67] set_position, code=0, connected=True, state=2, error=0, ret1=(0, 2). ret2=(0, [0, 0])\n",
      "[2023-07-21 18:06:16][101] (0) ----> [599.093994, -123.963707, 46.341263, -153.866555, 28.627894, -43.040647]\n",
      "[2023-07-21 18:06:16][96] Robot is already alive: False\n",
      "[2023-07-21 18:06:16][98] Move   0: [622.806396, -42.040199, 142.041245, -146.58134, 31.117223, -38.068061]\n",
      "[2023-07-21 18:06:16][67] set_position, code=0, connected=True, state=2, error=0, ret1=(0, 2). ret2=(0, [0, 0])\n",
      "[2023-07-21 18:06:16][101] (0) ----> [622.806091, -163.966568, 142.041229, -146.58134, 31.117223, -38.068347]\n",
      "[2023-07-21 18:06:16][96] Robot is already alive: False\n",
      "[2023-07-21 18:06:16][98] Move   0: [599.093933, -6.745806, 46.341305, -153.866555, 28.627894, -43.04036]\n",
      "[2023-07-21 18:06:18][67] set_position, code=0, connected=True, state=2, error=0, ret1=(0, 2). ret2=(0, [0, 0])\n",
      "[2023-07-21 18:06:18][101] (0) ----> [599.093933, -6.745806, 46.341305, -153.866555, 28.627894, -43.04036]\n",
      "[2023-07-21 18:06:18][96] Robot is already alive: False\n",
      "[2023-07-21 18:06:18][98] Move   0: [622.806274, -50.55183, 145.040909, 143.6278, -27.443762, 147.963486]\n",
      "[2023-07-21 18:06:18][67] set_position, code=0, connected=True, state=1, error=0, ret1=(0, 1). ret2=(0, [0, 0])\n",
      "[2023-07-21 18:06:18][101] (0) ----> [622.806396, -42.040794, 142.041245, -146.58134, 31.117223, -38.068061]\n",
      "[2023-07-21 18:06:18][96] Robot is already alive: False\n",
      "[2023-07-21 18:06:18][98] Move   0: [599.093872, -15.745597, 46.341263, 154.007331, -28.753658, 136.666534]\n",
      "[2023-07-21 18:06:28][67] set_position, code=0, connected=True, state=2, error=0, ret1=(0, 2). ret2=(0, [0, 0])\n",
      "[2023-07-21 18:06:28][101] (0) ----> [599.093872, -15.745582, 46.341263, 154.007503, -28.753772, 136.666248]\n",
      "[2023-07-21 18:06:28][96] Robot is already alive: False\n",
      "[2023-07-21 18:06:28][98] Move   0: [622.806396, -163.967102, 142.041367, 142.848462, -26.294638, 149.68763]\n",
      "[2023-07-21 18:06:28][67] set_position, code=0, connected=True, state=2, error=0, ret1=(0, 2). ret2=(0, [0, 0])\n",
      "[2023-07-21 18:06:28][101] (0) ----> [622.806274, -50.551815, 145.040909, 143.627685, -27.44359, 147.963772]\n",
      "[2023-07-21 18:06:28][96] Robot is already alive: False\n",
      "[2023-07-21 18:06:28][98] Move   0: [599.093811, -123.963943, 46.341263, 150.007914, -24.515031, 145.567434]\n",
      "[2023-07-21 18:06:29][67] set_position, code=0, connected=True, state=2, error=0, ret1=(0, 2). ret2=(0, [0, 0])\n",
      "[2023-07-21 18:06:29][101] (0) ----> [599.093811, -123.963905, 46.341263, 150.007914, -24.515031, 145.567434]\n",
      "[2023-07-21 18:06:29][96] Robot is already alive: False\n",
      "[2023-07-21 18:06:29][98] Move   0: [553.798645, 15.291856, 142.041382, 145.644382, -26.557682, 62.349267]\n",
      "[2023-07-21 18:06:29][67] set_position, code=0, connected=True, state=2, error=0, ret1=(0, 2). ret2=(0, [0, 0])\n",
      "[2023-07-21 18:06:29][101] (0) ----> [622.806396, -163.966507, 142.041382, 142.848462, -26.294638, 149.68763]\n",
      "[2023-07-21 18:06:29][96] Robot is already alive: False\n",
      "[2023-07-21 18:06:29][98] Move   0: [613.324402, -25.963268, 43.34127, 154.214799, -28.936489, 51.895079]\n",
      "[2023-07-21 18:06:34][67] set_position, code=0, connected=True, state=2, error=0, ret1=(0, 2). ret2=(0, [0, 0])\n",
      "[2023-07-21 18:06:34][101] (0) ----> [613.324341, -25.963583, 43.34127, 154.214799, -28.936489, 51.895423]\n",
      "[2023-07-21 18:06:34][96] Robot is already alive: False\n",
      "[2023-07-21 18:06:34][98] Move   0: [468.352417, 15.291856, 147.040756, 145.644382, -26.557682, 62.349267]\n",
      "[2023-07-21 18:06:34][67] set_position, code=0, connected=True, state=2, error=0, ret1=(0, 2). ret2=(0, [0, 0])\n",
      "[2023-07-21 18:06:34][101] (0) ----> [553.798889, 15.291228, 142.041382, 145.644382, -26.557682, 62.349554]\n",
      "[2023-07-21 18:06:34][96] Robot is already alive: False\n",
      "[2023-07-21 18:06:34][98] Move   0: [528.529663, -15.28826, 43.34127, 154.214799, -28.936489, 51.895079]\n",
      "[2023-07-21 18:06:36][67] set_position, code=0, connected=True, state=2, error=0, ret1=(0, 2). ret2=(0, [0, 0])\n",
      "[2023-07-21 18:06:36][101] (0) ----> [528.529663, -15.288259, 43.341278, 154.214799, -28.936489, 51.895079]\n",
      "[2023-07-21 18:06:36][96] Robot is already alive: False\n",
      "[2023-07-21 18:06:36][98] Move   0: [595.031189, -36.275467, 149.359634, 146.57985, -31.115562, 117.373498]\n",
      "[2023-07-21 18:06:36][67] set_position, code=0, connected=True, state=2, error=0, ret1=(0, 2). ret2=(0, [0, 0])\n",
      "[2023-07-21 18:06:36][101] (0) ----> [468.353027, 15.29186, 147.040741, 145.644382, -26.557682, 62.349267]\n",
      "[2023-07-21 18:06:36][96] Robot is already alive: False\n",
      "[2023-07-21 18:06:36][98] Move   0: [606.605713, -6.745147, 44.096176, 151.468555, -25.818567, 112.777116]\n",
      "[2023-07-21 18:06:39][67] set_position, code=0, connected=True, state=2, error=0, ret1=(0, 2). ret2=(0, [0, 0])\n",
      "[2023-07-21 18:06:39][101] (0) ----> [606.605347, -6.745213, 44.096184, 151.468555, -25.818567, 112.77683]\n",
      "[2023-07-21 18:06:39][96] Robot is already alive: False\n",
      "[2023-07-21 18:06:39][98] Move   0: [586.499084, -43.446308, 287.829834, 146.57985, -31.115562, 117.373498]\n",
      "[2023-07-21 18:06:39][67] set_position, code=0, connected=True, state=2, error=0, ret1=(0, 2). ret2=(0, [0, 0])\n",
      "[2023-07-21 18:06:39][101] (0) ----> [595.030518, -36.275181, 149.359634, 146.57985, -31.115562, 117.373155]\n",
      "[2023-07-21 18:06:39][96] Robot is already alive: False\n",
      "[2023-07-21 18:06:39][98] Move   0: [594.292725, -20.638094, 181.862991, 151.468498, -25.818567, 112.777116]\n",
      "[2023-07-21 18:06:41][67] set_position, code=0, connected=True, state=2, error=0, ret1=(0, 2). ret2=(0, [0, 0])\n",
      "[2023-07-21 18:06:41][101] (0) ----> [594.292725, -20.638102, 181.862991, 151.468555, -25.818567, 112.777116]\n"
     ]
    },
    {
     "data": {
      "text/plain": [
       "0"
      ]
     },
     "execution_count": 577,
     "metadata": {},
     "output_type": "execute_result"
    },
    {
     "name": "stdout",
     "output_type": "stream",
     "text": [
      "ControllerError, code: 1\n",
      "[SDK][ERROR][2023-07-21 18:10:01][base.py:168] - - [report-socket] socket read timeout\n",
      "[SDK][ERROR][2023-07-21 18:10:03][base.py:168] - - [report-socket] socket read timeout\n",
      "[SDK][ERROR][2023-07-21 18:10:18][base.py:93] - - [main-socket] send error: [Errno 64] Host is down\n",
      "[SDK][ERROR][2023-07-21 18:10:20][base.py:1179] - - report thread is break, connected=False, failed_cnts=4\n",
      "[SDK][ERROR][2023-07-21 18:10:20][base.py:93] - - [main-socket] send error: [Errno 64] Host is down\n"
     ]
    }
   ],
   "source": [
    "left_robot.linear_move([left_round_y_center], wait=False)\n",
    "right_robot.linear_move([right_round_y_center])\n",
    "\n",
    "left_robot.linear_move([left_round_y_back], wait=False)\n",
    "right_robot.linear_move([right_round_y_back])\n",
    "\n",
    "left_robot.linear_move([left_round_x_center], wait=False)\n",
    "right_robot.linear_move([right_round_x_center])\n",
    "\n",
    "left_robot.linear_move([left_round_x_back], wait=False)\n",
    "right_robot.linear_move([right_round_x_back])\n",
    "\n",
    "left_robot.linear_move([left_round_xy_center], wait=False)\n",
    "right_robot.linear_move([right_round_xy_center])\n",
    "\n",
    "left_robot.linear_move([left_round_xy_back], wait=False)\n",
    "right_robot.linear_move([right_round_xy_back])\n",
    "\n",
    "left_robot.linear_move([left_round_x_back], wait=False)\n",
    "right_robot.linear_move([right_round_x_back])\n",
    "\n",
    "left_robot.linear_move([left_round_x_center], wait=False)\n",
    "right_robot.linear_move([right_round_x_center])\n",
    "\n",
    "left_robot.linear_move([left_round_y_back], wait=False)\n",
    "right_robot.linear_move([right_round_y_back])\n",
    "\n",
    "left_robot.linear_move([left_round_y_center], wait=False)\n",
    "right_robot.linear_move([right_round_y_center])\n",
    "\n",
    "left_robot.linear_move([left_sharp_y_center], wait=False)\n",
    "right_robot.linear_move([right_sharp_y_center])\n",
    "\n",
    "left_robot.linear_move([left_sharp_y_back], wait=False)\n",
    "right_robot.linear_move([right_sharp_y_back])\n",
    "\n",
    "left_robot.linear_move([left_sharp_x_center], wait=False)\n",
    "right_robot.linear_move([right_sharp_x_center])\n",
    "\n",
    "left_robot.linear_move([left_sharp_x_back], wait=False)\n",
    "right_robot.linear_move([right_sharp_x_back])\n",
    "\n",
    "left_robot.linear_move([left_sharp_xy_center], wait=False)\n",
    "right_robot.linear_move([right_sharp_xy_center])\n",
    "\n",
    "left_reset = [586.499084, -43.446308, 287.829834, 146.57985, -31.115562, 117.373498]\n",
    "right_reset = [594.292725, -20.638094, 181.862991, 151.468498, -25.818567, 112.777116]\n",
    "\n",
    "left_robot.linear_move([left_reset], wait=False)\n",
    "right_robot.linear_move([right_reset])\n",
    "\n",
    "left_init = [0, -12, 0, 31.4, 0, 43.4, 0]\n",
    "right_init = [0, -22.3, 0, 25.1, 0, 47.3, 0]\n",
    "\n",
    "left_robot._arm.set_servo_angle(angle=left_init, speed=50, is_radian=False, wait=True)\n",
    "right_robot._arm.set_servo_angle(angle=right_init, speed=50, is_radian=False, wait=True)\n"
   ]
  },
  {
   "cell_type": "code",
   "execution_count": 574,
   "id": "53a3528a-7978-400f-908d-07a124f4e4cb",
   "metadata": {},
   "outputs": [
    {
     "name": "stdout",
     "output_type": "stream",
     "text": [
      "[2023-07-21 17:59:39][96] Robot is already alive: False\n",
      "[2023-07-21 17:59:39][98] Move   0: [586.499084, -43.446308, 287.829834, 146.57985, -31.115562, 117.373498]\n",
      "[2023-07-21 17:59:39][67] set_position, code=0, connected=True, state=2, error=0, ret1=(0, 2). ret2=(0, [0, 0])\n",
      "[2023-07-21 17:59:39][101] (0) ----> [595.031128, -36.275497, 149.360229, 146.57985, -31.115562, 117.373498]\n",
      "[2023-07-21 17:59:39][96] Robot is already alive: False\n",
      "[2023-07-21 17:59:39][98] Move   0: [594.292725, -20.638094, 181.862991, 151.468498, -25.818567, 112.777116]\n",
      "[2023-07-21 17:59:41][67] set_position, code=0, connected=True, state=2, error=0, ret1=(0, 2). ret2=(0, [0, 0])\n",
      "[2023-07-21 17:59:41][101] (0) ----> [594.292725, -20.638094, 181.862991, 151.468555, -25.818567, 112.777116]\n"
     ]
    }
   ],
   "source": [
    "left_reset = [586.499084, -43.446308, 287.829834, 146.57985, -31.115562, 117.373498]\n",
    "right_reset = [594.292725, -20.638094, 181.862991, 151.468498, -25.818567, 112.777116]\n",
    "\n",
    "left_robot.linear_move([left_reset], wait=False)\n",
    "right_robot.linear_move([right_reset])"
   ]
  },
  {
   "cell_type": "code",
   "execution_count": 573,
   "id": "0e79b5f7-50d5-4b61-afa4-33a006122e20",
   "metadata": {},
   "outputs": [
    {
     "name": "stdout",
     "output_type": "stream",
     "text": [
      "[2023-07-21 17:59:32][96] Robot is already alive: False\n",
      "[2023-07-21 17:59:32][98] Move   0: [595.031189, -36.275467, 149.359634, 146.57985, -31.115562, 117.373498]\n",
      "[2023-07-21 17:59:32][67] set_position, code=0, connected=True, state=2, error=0, ret1=(0, 2). ret2=(0, [0, 0])\n",
      "[2023-07-21 17:59:32][101] (0) ----> [586.499084, -43.446308, 287.829834, 146.57985, -31.115562, 117.373498]\n",
      "[2023-07-21 17:59:32][96] Robot is already alive: False\n",
      "[2023-07-21 17:59:32][98] Move   0: [606.605713, -6.745147, 44.096176, 151.468555, -25.818567, 112.777116]\n",
      "[2023-07-21 17:59:34][67] set_position, code=0, connected=True, state=2, error=0, ret1=(0, 2). ret2=(0, [0, 0])\n",
      "[2023-07-21 17:59:34][101] (0) ----> [606.605713, -6.74515, 44.096184, 151.468498, -25.818567, 112.777116]\n"
     ]
    }
   ],
   "source": [
    "left_robot.linear_move([left_sharp_xy_center], wait=False)\n",
    "right_robot.linear_move([right_sharp_xy_center])"
   ]
  },
  {
   "cell_type": "code",
   "execution_count": 575,
   "id": "b2be61ce-c208-451c-b545-880abd02c196",
   "metadata": {},
   "outputs": [
    {
     "data": {
      "text/plain": [
       "0"
      ]
     },
     "execution_count": 575,
     "metadata": {},
     "output_type": "execute_result"
    }
   ],
   "source": [
    "left_init = [0, -12, 0, 31.4, 0, 43.4, 0]\n",
    "right_init = [0, -22.3, 0, 25.1, 0, 47.3, 0]\n",
    "\n",
    "left_robot._arm.set_servo_angle(angle=left_init, speed=50, is_radian=False, wait=False)\n",
    "right_robot._arm.set_servo_angle(angle=right_init, speed=50, is_radian=False, wait=True)"
   ]
  },
  {
   "cell_type": "code",
   "execution_count": 191,
   "id": "50fbc97b-51e6-4986-aa10-e56f03157fbf",
   "metadata": {
    "tags": []
   },
   "outputs": [],
   "source": [
    "def motion(left_center, left_center_down, left_back, left_back_down,\n",
    "           right_center, right_center_down, right_back, right_back_down, n=3, weight=2):\n",
    "    # reset\n",
    "    left_robot.linear_move([left_center], wait=False)\n",
    "    right_robot.linear_move([right_center])\n",
    "\n",
    "    # repeat n times\n",
    "    for i in range(n):\n",
    "\n",
    "        left_robot.linear_move([z(left_center_down, -i*weight)], wait=False)\n",
    "        right_robot.linear_move([z(right_center_down, -i*weight)])\n",
    "\n",
    "        left_robot.linear_move([z(left_back_down, -i*weight)], wait=False)\n",
    "        right_robot.linear_move([z(right_back_down, -i*weight)])\n",
    "\n",
    "        left_robot.linear_move([left_back], wait=False)\n",
    "        right_robot.linear_move([right_back])\n",
    "\n",
    "        time.sleep(0.5)\n",
    "\n",
    "        left_robot.linear_move([left_center], wait=False)\n",
    "        right_robot.linear_move([right_center])  "
   ]
  },
  {
   "cell_type": "code",
   "execution_count": 181,
   "id": "b118a2b4-c741-4a83-9f50-7d78c3d0cf71",
   "metadata": {},
   "outputs": [
    {
     "name": "stdout",
     "output_type": "stream",
     "text": [
      "[2023-07-21 14:49:46][96] Robot is already alive: False\n",
      "[2023-07-21 14:49:46][98] Move   0: [622.806396, -42.040199, 142.041245, -146.58134, 31.117223, -38.068061]\n",
      "[2023-07-21 14:49:46][67] set_position, code=0, connected=True, state=2, error=0, ret1=(0, 2). ret2=(0, [0, 0])\n",
      "[2023-07-21 14:49:46][101] (0) ----> [622.806396, -42.040794, 142.041214, -146.58134, 31.117223, -38.068061]\n",
      "[2023-07-21 14:49:46][96] Robot is already alive: False\n",
      "[2023-07-21 14:49:46][98] Move   0: [599.093933, -6.745806, 46.341305, -153.866555, 28.627894, -43.04036]\n",
      "[2023-07-21 14:49:46][67] set_position, code=0, connected=True, state=2, error=0, ret1=(0, 2). ret2=(0, [0, 0])\n",
      "[2023-07-21 14:49:46][101] (0) ----> [599.093933, -6.745806, 46.341305, -153.866555, 28.627894, -43.04036]\n",
      "[2023-07-21 14:49:46][96] Robot is already alive: False\n",
      "[2023-07-21 14:49:46][98] Move   0: [622.806396, -42.040199, 134.912399, -146.58134, 31.117223, -38.068061]\n",
      "[2023-07-21 14:49:46][67] set_position, code=0, connected=True, state=2, error=0, ret1=(0, 2). ret2=(0, [0, 0])\n",
      "[2023-07-21 14:49:46][101] (0) ----> [622.806396, -42.040794, 142.041214, -146.58134, 31.117223, -38.068061]\n",
      "[2023-07-21 14:49:46][96] Robot is already alive: False\n",
      "[2023-07-21 14:49:46][98] Move   0: [599.093933, -6.745806, 39, -153.866555, 28.627894, -43.04036]\n",
      "[2023-07-21 14:49:47][67] set_position, code=0, connected=True, state=2, error=0, ret1=(0, 2). ret2=(0, [0, 0])\n",
      "[2023-07-21 14:49:47][101] (0) ----> [599.093933, -6.745806, 39.0, -153.866555, 28.627894, -43.04036]\n",
      "[2023-07-21 14:49:47][96] Robot is already alive: False\n",
      "[2023-07-21 14:49:47][98] Move   0: [622.806335, -163.967209, 134.912399, -146.58134, 31.117223, -38.068061]\n",
      "[2023-07-21 14:49:47][67] set_position, code=0, connected=True, state=2, error=0, ret1=(0, 2). ret2=(0, [0, 0])\n",
      "[2023-07-21 14:49:47][101] (0) ----> [622.806396, -42.040199, 134.912994, -146.58134, 31.117223, -38.068061]\n",
      "[2023-07-21 14:49:47][96] Robot is already alive: False\n",
      "[2023-07-21 14:49:47][98] Move   0: [599.093933, -123.964081, 39, -153.866555, 28.627894, -43.04036]\n",
      "[2023-07-21 14:49:48][67] set_position, code=0, connected=True, state=2, error=0, ret1=(0, 2). ret2=(0, [0, 0])\n",
      "[2023-07-21 14:49:48][101] (0) ----> [599.093933, -123.964081, 39.0, -153.866555, 28.627894, -43.04036]\n",
      "[2023-07-21 14:49:48][96] Robot is already alive: False\n",
      "[2023-07-21 14:49:48][98] Move   0: [622.806335, -163.967209, 142.041214, -146.58134, 31.117223, -38.068061]\n",
      "[2023-07-21 14:49:48][67] set_position, code=0, connected=True, state=2, error=0, ret1=(0, 2). ret2=(0, [0, 0])\n",
      "[2023-07-21 14:49:48][101] (0) ----> [622.806335, -163.966614, 134.912399, -146.58134, 31.117223, -38.068061]\n",
      "[2023-07-21 14:49:48][96] Robot is already alive: False\n",
      "[2023-07-21 14:49:48][98] Move   0: [599.093933, -123.964081, 46.341267, -153.866555, 28.627894, -43.04036]\n",
      "[2023-07-21 14:49:49][67] set_position, code=0, connected=True, state=2, error=0, ret1=(0, 2). ret2=(0, [0, 0])\n",
      "[2023-07-21 14:49:49][101] (0) ----> [599.093933, -123.964081, 46.341267, -153.866555, 28.627894, -43.04036]\n",
      "[2023-07-21 14:49:49][96] Robot is already alive: False\n",
      "[2023-07-21 14:49:49][98] Move   0: [622.806396, -42.040199, 142.041245, -146.58134, 31.117223, -38.068061]\n",
      "[2023-07-21 14:49:49][67] set_position, code=0, connected=True, state=2, error=0, ret1=(0, 2). ret2=(0, [0, 0])\n",
      "[2023-07-21 14:49:49][101] (0) ----> [622.806335, -163.967209, 142.040619, -146.58134, 31.117223, -38.068061]\n",
      "[2023-07-21 14:49:49][96] Robot is already alive: False\n",
      "[2023-07-21 14:49:49][98] Move   0: [599.093933, -6.745806, 46.341305, -153.866555, 28.627894, -43.04036]\n",
      "[2023-07-21 14:49:51][67] set_position, code=0, connected=True, state=2, error=0, ret1=(0, 2). ret2=(0, [0, 0])\n",
      "[2023-07-21 14:49:51][101] (0) ----> [599.093933, -6.745806, 46.341305, -153.866555, 28.627894, -43.04036]\n",
      "[2023-07-21 14:49:51][96] Robot is already alive: False\n",
      "[2023-07-21 14:49:51][98] Move   0: [622.806396, -42.040199, 132.912399, -146.58134, 31.117223, -38.068061]\n",
      "[2023-07-21 14:49:51][67] set_position, code=0, connected=True, state=2, error=0, ret1=(0, 2). ret2=(0, [0, 0])\n",
      "[2023-07-21 14:49:51][101] (0) ----> [622.806396, -42.040794, 142.041245, -146.58134, 31.117223, -38.068061]\n",
      "[2023-07-21 14:49:51][96] Robot is already alive: False\n",
      "[2023-07-21 14:49:51][98] Move   0: [599.093933, -6.745806, 37, -153.866555, 28.627894, -43.04036]\n",
      "[2023-07-21 14:49:52][67] set_position, code=0, connected=True, state=2, error=0, ret1=(0, 2). ret2=(0, [0, 0])\n",
      "[2023-07-21 14:49:52][101] (0) ----> [599.093933, -6.745806, 37.000038, -153.866555, 28.627894, -43.04036]\n",
      "[2023-07-21 14:49:52][96] Robot is already alive: False\n",
      "[2023-07-21 14:49:52][98] Move   0: [622.806335, -163.967209, 132.912399, -146.58134, 31.117223, -38.068061]\n",
      "[2023-07-21 14:49:52][67] set_position, code=0, connected=True, state=2, error=0, ret1=(0, 2). ret2=(0, [0, 0])\n",
      "[2023-07-21 14:49:52][101] (0) ----> [622.806396, -42.040199, 132.912994, -146.58134, 31.117223, -38.068061]\n",
      "[2023-07-21 14:49:52][96] Robot is already alive: False\n",
      "[2023-07-21 14:49:52][98] Move   0: [599.093933, -123.964081, 37, -153.866555, 28.627894, -43.04036]\n",
      "[2023-07-21 14:49:53][67] set_position, code=0, connected=True, state=2, error=0, ret1=(0, 2). ret2=(0, [0, 0])\n",
      "[2023-07-21 14:49:53][101] (0) ----> [599.093933, -123.964081, 37.0, -153.866555, 28.627894, -43.04036]\n",
      "[2023-07-21 14:49:53][96] Robot is already alive: False\n",
      "[2023-07-21 14:49:53][98] Move   0: [622.806335, -163.967209, 142.041214, -146.58134, 31.117223, -38.068061]\n",
      "[2023-07-21 14:49:53][67] set_position, code=0, connected=True, state=1, error=0, ret1=(0, 1). ret2=(0, [0, 0])\n",
      "[2023-07-21 14:49:53][101] (0) ----> [622.806335, -163.966614, 132.912399, -146.58134, 31.117223, -38.068061]\n",
      "[2023-07-21 14:49:53][96] Robot is already alive: False\n",
      "[2023-07-21 14:49:53][98] Move   0: [599.093933, -123.964081, 46.341267, -153.866555, 28.627894, -43.04036]\n",
      "[2023-07-21 14:49:54][67] set_position, code=0, connected=True, state=2, error=0, ret1=(0, 2). ret2=(0, [0, 0])\n",
      "[2023-07-21 14:49:54][101] (0) ----> [599.093933, -123.964081, 46.341228, -153.866555, 28.627894, -43.04036]\n",
      "[2023-07-21 14:49:54][96] Robot is already alive: False\n",
      "[2023-07-21 14:49:54][98] Move   0: [622.806396, -42.040199, 142.041245, -146.58134, 31.117223, -38.068061]\n",
      "[2023-07-21 14:49:54][67] set_position, code=0, connected=True, state=2, error=0, ret1=(0, 2). ret2=(0, [0, 0])\n",
      "[2023-07-21 14:49:54][101] (0) ----> [622.806335, -163.967209, 142.040619, -146.58134, 31.117223, -38.068061]\n",
      "[2023-07-21 14:49:54][96] Robot is already alive: False\n",
      "[2023-07-21 14:49:54][98] Move   0: [599.093933, -6.745806, 46.341305, -153.866555, 28.627894, -43.04036]\n",
      "[2023-07-21 14:49:56][67] set_position, code=0, connected=True, state=2, error=0, ret1=(0, 2). ret2=(0, [0, 0])\n",
      "[2023-07-21 14:49:56][101] (0) ----> [599.093933, -6.745806, 46.341305, -153.866555, 28.627894, -43.04036]\n",
      "[2023-07-21 14:49:56][96] Robot is already alive: False\n",
      "[2023-07-21 14:49:56][98] Move   0: [622.806396, -42.040199, 130.912399, -146.58134, 31.117223, -38.068061]\n",
      "[2023-07-21 14:49:56][67] set_position, code=0, connected=True, state=2, error=0, ret1=(0, 2). ret2=(0, [0, 0])\n",
      "[2023-07-21 14:49:56][101] (0) ----> [622.806396, -42.040794, 142.041245, -146.58134, 31.117223, -38.068061]\n",
      "[2023-07-21 14:49:56][96] Robot is already alive: False\n",
      "[2023-07-21 14:49:56][98] Move   0: [599.093933, -6.745806, 35, -153.866555, 28.627894, -43.04036]\n",
      "[2023-07-21 14:49:56][67] set_position, code=0, connected=True, state=2, error=0, ret1=(0, 2). ret2=(0, [0, 0])\n",
      "[2023-07-21 14:49:56][101] (0) ----> [599.093933, -6.745806, 35.0, -153.866555, 28.627894, -43.04036]\n",
      "[2023-07-21 14:49:56][96] Robot is already alive: False\n",
      "[2023-07-21 14:49:56][98] Move   0: [622.806335, -163.967209, 130.912399, -146.58134, 31.117223, -38.068061]\n",
      "[2023-07-21 14:49:56][67] set_position, code=0, connected=True, state=2, error=0, ret1=(0, 2). ret2=(0, [0, 0])\n",
      "[2023-07-21 14:49:56][101] (0) ----> [622.806396, -42.040199, 130.912994, -146.58134, 31.117223, -38.068061]\n",
      "[2023-07-21 14:49:56][96] Robot is already alive: False\n",
      "[2023-07-21 14:49:56][98] Move   0: [599.093933, -123.964081, 35, -153.866555, 28.627894, -43.04036]\n",
      "[2023-07-21 14:49:58][67] set_position, code=0, connected=True, state=2, error=0, ret1=(0, 2). ret2=(0, [0, 0])\n",
      "[2023-07-21 14:49:58][101] (0) ----> [599.093933, -123.964081, 35.0, -153.866555, 28.627894, -43.04036]\n",
      "[2023-07-21 14:49:58][96] Robot is already alive: False\n",
      "[2023-07-21 14:49:58][98] Move   0: [622.806335, -163.967209, 142.041214, -146.58134, 31.117223, -38.068061]\n",
      "[2023-07-21 14:49:58][67] set_position, code=0, connected=True, state=2, error=0, ret1=(0, 2). ret2=(0, [0, 0])\n",
      "[2023-07-21 14:49:58][101] (0) ----> [622.806335, -163.966614, 130.912399, -146.58134, 31.117223, -38.068061]\n",
      "[2023-07-21 14:49:58][96] Robot is already alive: False\n",
      "[2023-07-21 14:49:58][98] Move   0: [599.093933, -123.964081, 46.341267, -153.866555, 28.627894, -43.04036]\n",
      "[2023-07-21 14:49:58][67] set_position, code=0, connected=True, state=2, error=0, ret1=(0, 2). ret2=(0, [0, 0])\n",
      "[2023-07-21 14:49:58][101] (0) ----> [599.093933, -123.964081, 46.341267, -153.866555, 28.627894, -43.04036]\n",
      "[2023-07-21 14:49:59][96] Robot is already alive: False\n",
      "[2023-07-21 14:49:59][98] Move   0: [622.806396, -42.040199, 142.041245, -146.58134, 31.117223, -38.068061]\n",
      "[2023-07-21 14:49:59][67] set_position, code=0, connected=True, state=2, error=0, ret1=(0, 2). ret2=(0, [0, 0])\n",
      "[2023-07-21 14:49:59][101] (0) ----> [622.806335, -163.967209, 142.040619, -146.58134, 31.117223, -38.068061]\n",
      "[2023-07-21 14:49:59][96] Robot is already alive: False\n",
      "[2023-07-21 14:49:59][98] Move   0: [599.093933, -6.745806, 46.341305, -153.866555, 28.627894, -43.04036]\n",
      "[2023-07-21 14:50:01][67] set_position, code=0, connected=True, state=2, error=0, ret1=(0, 2). ret2=(0, [0, 0])\n",
      "[2023-07-21 14:50:01][101] (0) ----> [599.093933, -6.745806, 46.341305, -153.866555, 28.627894, -43.04036]\n"
     ]
    }
   ],
   "source": [
    "left_robot.linear_move([left_round_y_center], wait=False)\n",
    "right_robot.linear_move([right_round_y_center])\n",
    "    \n",
    "for i in range(3):\n",
    "\n",
    "    left_robot.linear_move([z(left_round_y_center_down, -i*2)], wait=False)\n",
    "    right_robot.linear_move([z(right_round_y_center_down, -i*2)])\n",
    "\n",
    "    left_robot.linear_move([z(left_round_y_back_down, -i*2)], wait=False)\n",
    "    right_robot.linear_move([z(right_round_y_back_down, -i*2)])\n",
    "\n",
    "    left_robot.linear_move([left_round_y_back], wait=False)\n",
    "    right_robot.linear_move([right_round_y_back])\n",
    "\n",
    "    time.sleep(0.5)\n",
    "\n",
    "    left_robot.linear_move([left_round_y_center], wait=False)\n",
    "    right_robot.linear_move([right_round_y_center])"
   ]
  },
  {
   "cell_type": "code",
   "execution_count": null,
   "id": "b41a46f4-f719-4841-9a0c-90b72b27823a",
   "metadata": {},
   "outputs": [],
   "source": []
  },
  {
   "cell_type": "markdown",
   "id": "8cce2fd9-c615-4583-b35c-53a356b720af",
   "metadata": {},
   "source": [
    "#### Sharp Y Moves"
   ]
  },
  {
   "cell_type": "code",
   "execution_count": 195,
   "id": "efab8d50-cac3-481c-82f1-da31e8ecda9b",
   "metadata": {},
   "outputs": [
    {
     "name": "stdout",
     "output_type": "stream",
     "text": [
      "[2023-07-21 15:03:31][96] Robot is already alive: False\n",
      "[2023-07-21 15:03:31][98] Move   0: [622.806396, -42.040199, 142.041245, -146.58134, 31.117223, -38.068061]\n",
      "[2023-07-21 15:03:31][67] set_position, code=0, connected=True, state=2, error=0, ret1=(0, 2). ret2=(0, [0, 0])\n",
      "[2023-07-21 15:03:31][101] (0) ----> [581.198547, -42.040134, 140.753876, -146.777234, 31.330707, -125.29378]\n",
      "[2023-07-21 15:03:31][96] Robot is already alive: False\n",
      "[2023-07-21 15:03:31][98] Move   0: [599.093933, -6.745806, 46.341305, -153.866555, 28.627894, -43.04036]\n",
      "[2023-07-21 15:03:36][67] set_position, code=0, connected=True, state=2, error=0, ret1=(0, 2). ret2=(0, [0, 0])\n",
      "[2023-07-21 15:03:36][101] (0) ----> [599.093933, -6.745806, 46.341316, -153.866555, 28.627894, -43.04036]\n"
     ]
    }
   ],
   "source": [
    "left_robot.linear_move([left_round_y_center], wait=False)\n",
    "right_robot.linear_move([right_round_y_center])"
   ]
  },
  {
   "cell_type": "code",
   "execution_count": 160,
   "id": "3b9a6823-b979-4f2b-9b16-279ba226986f",
   "metadata": {},
   "outputs": [
    {
     "name": "stdout",
     "output_type": "stream",
     "text": [
      "[2023-07-21 14:42:07][96] Robot is already alive: False\n",
      "[2023-07-21 14:42:07][98] Move   0: [622.806274, -42.040241, 142.040878, 143.6278, -27.443762, 147.963486]\n",
      "[2023-07-21 14:42:07][67] set_position, code=0, connected=True, state=2, error=0, ret1=(0, 2). ret2=(0, [0, 0])\n",
      "[2023-07-21 14:42:07][101] (0) ----> [622.806396, -42.039654, 142.040894, 143.627685, -27.443819, 147.9636]\n",
      "[2023-07-21 14:42:07][96] Robot is already alive: False\n",
      "[2023-07-21 14:42:07][98] Move   0: [599.093872, -6.745587, 46.341251, 154.007331, -28.753658, 136.666534]\n",
      "[2023-07-21 14:42:07][67] set_position, code=0, connected=True, state=2, error=0, ret1=(0, 2). ret2=(0, [0, 0])\n",
      "[2023-07-21 14:42:07][101] (0) ----> [599.093872, -6.745587, 46.341251, 154.007331, -28.753658, 136.666534]\n",
      "[2023-07-21 14:42:07][96] Robot is already alive: False\n",
      "[2023-07-21 14:42:07][98] Move   0: [622.806274, -42.040253, 131.912399, 143.6278, -27.443762, 147.963486]\n",
      "[2023-07-21 14:42:07][67] set_position, code=0, connected=True, state=2, error=0, ret1=(0, 2). ret2=(0, [0, 0])\n",
      "[2023-07-21 14:42:07][101] (0) ----> [622.806396, -42.039654, 142.040894, 143.627685, -27.443819, 147.9636]\n",
      "[2023-07-21 14:42:07][96] Robot is already alive: False\n",
      "[2023-07-21 14:42:07][98] Move   0: [599.093933, -6.745624, 36, 154.007331, -28.753658, 136.666534]\n",
      "[2023-07-21 14:42:08][67] set_position, code=0, connected=True, state=2, error=0, ret1=(0, 2). ret2=(0, [0, 0])\n",
      "[2023-07-21 14:42:08][101] (0) ----> [599.093933, -6.745625, 36.0, 154.007331, -28.753658, 136.666534]\n",
      "[2023-07-21 14:42:08][96] Robot is already alive: False\n",
      "[2023-07-21 14:42:08][98] Move   0: [622.806396, -163.967102, 131.912399, 142.848462, -26.294638, 149.68763]\n",
      "[2023-07-21 14:42:08][67] set_position, code=0, connected=True, state=2, error=0, ret1=(0, 2). ret2=(0, [0, 0])\n",
      "[2023-07-21 14:42:08][101] (0) ----> [622.806274, -42.040253, 131.912994, 143.6278, -27.443762, 147.963486]\n",
      "[2023-07-21 14:42:08][96] Robot is already alive: False\n",
      "[2023-07-21 14:42:08][98] Move   0: [599.093811, -123.963943, 36, 150.007914, -24.515031, 145.567434]\n",
      "[2023-07-21 14:42:09][67] set_position, code=0, connected=True, state=2, error=0, ret1=(0, 2). ret2=(0, [0, 0])\n",
      "[2023-07-21 14:42:09][101] (0) ----> [599.093811, -123.963943, 36.0, 150.007914, -24.515031, 145.567434]\n",
      "[2023-07-21 14:42:09][96] Robot is already alive: False\n",
      "[2023-07-21 14:42:09][98] Move   0: [622.806396, -163.967102, 142.041367, 142.848462, -26.294638, 149.68763]\n",
      "[2023-07-21 14:42:09][67] set_position, code=0, connected=True, state=2, error=0, ret1=(0, 2). ret2=(0, [0, 0])\n",
      "[2023-07-21 14:42:09][101] (0) ----> [622.806396, -163.966507, 131.912399, 142.848462, -26.294638, 149.68763]\n",
      "[2023-07-21 14:42:09][96] Robot is already alive: False\n",
      "[2023-07-21 14:42:09][98] Move   0: [599.093811, -123.963943, 46.341187, 150.007914, -24.515031, 145.567434]\n",
      "[2023-07-21 14:42:10][67] set_position, code=0, connected=True, state=2, error=0, ret1=(0, 2). ret2=(0, [0, 0])\n",
      "[2023-07-21 14:42:10][101] (0) ----> [599.093811, -123.963943, 46.341187, 150.007914, -24.515031, 145.567434]\n",
      "[2023-07-21 14:42:10][96] Robot is already alive: False\n",
      "[2023-07-21 14:42:10][98] Move   0: [622.806274, -42.040241, 142.040878, 143.6278, -27.443762, 147.963486]\n",
      "[2023-07-21 14:42:10][67] set_position, code=0, connected=True, state=2, error=0, ret1=(0, 2). ret2=(0, [0, 0])\n",
      "[2023-07-21 14:42:10][101] (0) ----> [622.806396, -163.967102, 142.040771, 142.848462, -26.294638, 149.68763]\n",
      "[2023-07-21 14:42:10][96] Robot is already alive: False\n",
      "[2023-07-21 14:42:10][98] Move   0: [599.093872, -6.745587, 46.341251, 154.007331, -28.753658, 136.666534]\n",
      "[2023-07-21 14:42:12][67] set_position, code=0, connected=True, state=2, error=0, ret1=(0, 2). ret2=(0, [0, 0])\n",
      "[2023-07-21 14:42:12][101] (0) ----> [599.093872, -6.745587, 46.341251, 154.007331, -28.753658, 136.666534]\n",
      "[2023-07-21 14:42:12][96] Robot is already alive: False\n",
      "[2023-07-21 14:42:12][98] Move   0: [622.806274, -42.040253, 129.912399, 143.6278, -27.443762, 147.963486]\n",
      "[2023-07-21 14:42:12][67] set_position, code=0, connected=True, state=2, error=0, ret1=(0, 2). ret2=(0, [0, 0])\n",
      "[2023-07-21 14:42:12][101] (0) ----> [622.806274, -42.040836, 142.040878, 143.6278, -27.443762, 147.963486]\n",
      "[2023-07-21 14:42:12][96] Robot is already alive: False\n",
      "[2023-07-21 14:42:12][98] Move   0: [599.093933, -6.745624, 34, 154.007331, -28.753658, 136.666534]\n",
      "[2023-07-21 14:42:12][67] set_position, code=0, connected=True, state=2, error=0, ret1=(0, 2). ret2=(0, [0, 0])\n",
      "[2023-07-21 14:42:12][101] (0) ----> [599.093933, -6.745625, 34.0, 154.007331, -28.753658, 136.666534]\n",
      "[2023-07-21 14:42:12][96] Robot is already alive: False\n",
      "[2023-07-21 14:42:12][98] Move   0: [622.806396, -163.967102, 129.912399, 142.848462, -26.294638, 149.68763]\n",
      "[2023-07-21 14:42:12][67] set_position, code=0, connected=True, state=2, error=0, ret1=(0, 2). ret2=(0, [0, 0])\n",
      "[2023-07-21 14:42:12][101] (0) ----> [622.806274, -42.040253, 129.91301, 143.6278, -27.443762, 147.963486]\n",
      "[2023-07-21 14:42:12][96] Robot is already alive: False\n",
      "[2023-07-21 14:42:12][98] Move   0: [599.093811, -123.963943, 34, 150.007914, -24.515031, 145.567434]\n",
      "[2023-07-21 14:42:14][67] set_position, code=0, connected=True, state=2, error=0, ret1=(0, 2). ret2=(0, [0, 0])\n",
      "[2023-07-21 14:42:14][101] (0) ----> [599.093811, -123.963943, 34.0, 150.007914, -24.515031, 145.567434]\n",
      "[2023-07-21 14:42:14][96] Robot is already alive: False\n",
      "[2023-07-21 14:42:14][98] Move   0: [622.806396, -163.967102, 142.041367, 142.848462, -26.294638, 149.68763]\n",
      "[2023-07-21 14:42:14][67] set_position, code=0, connected=True, state=2, error=0, ret1=(0, 2). ret2=(0, [0, 0])\n",
      "[2023-07-21 14:42:14][101] (0) ----> [622.806396, -163.966507, 129.912399, 142.848462, -26.294638, 149.68763]\n",
      "[2023-07-21 14:42:14][96] Robot is already alive: False\n",
      "[2023-07-21 14:42:14][98] Move   0: [599.093811, -123.963943, 46.341187, 150.007914, -24.515031, 145.567434]\n",
      "[2023-07-21 14:42:15][67] set_position, code=0, connected=True, state=2, error=0, ret1=(0, 2). ret2=(0, [0, 0])\n",
      "[2023-07-21 14:42:15][101] (0) ----> [599.093811, -123.963943, 46.341187, 150.007914, -24.515031, 145.567434]\n",
      "[2023-07-21 14:42:15][96] Robot is already alive: False\n",
      "[2023-07-21 14:42:15][98] Move   0: [622.806274, -42.040241, 142.040878, 143.6278, -27.443762, 147.963486]\n",
      "[2023-07-21 14:42:15][67] set_position, code=0, connected=True, state=2, error=0, ret1=(0, 2). ret2=(0, [0, 0])\n",
      "[2023-07-21 14:42:15][101] (0) ----> [622.806396, -163.967102, 142.040756, 142.848462, -26.294638, 149.68763]\n",
      "[2023-07-21 14:42:15][96] Robot is already alive: False\n",
      "[2023-07-21 14:42:15][98] Move   0: [599.093872, -6.745587, 46.341251, 154.007331, -28.753658, 136.666534]\n",
      "[2023-07-21 14:42:17][67] set_position, code=0, connected=True, state=2, error=0, ret1=(0, 2). ret2=(0, [0, 0])\n",
      "[2023-07-21 14:42:17][101] (0) ----> [599.093872, -6.745587, 46.341251, 154.007331, -28.753658, 136.666534]\n",
      "[2023-07-21 14:42:17][96] Robot is already alive: False\n",
      "[2023-07-21 14:42:17][98] Move   0: [622.806274, -42.040253, 127.912399, 143.6278, -27.443762, 147.963486]\n",
      "[2023-07-21 14:42:17][67] set_position, code=0, connected=True, state=2, error=0, ret1=(0, 2). ret2=(0, [0, 0])\n",
      "[2023-07-21 14:42:17][101] (0) ----> [622.806274, -42.040836, 142.040878, 143.6278, -27.443762, 147.963486]\n",
      "[2023-07-21 14:42:17][96] Robot is already alive: False\n",
      "[2023-07-21 14:42:17][98] Move   0: [599.093933, -6.745624, 32, 154.007331, -28.753658, 136.666534]\n",
      "[2023-07-21 14:42:17][67] set_position, code=0, connected=True, state=2, error=0, ret1=(0, 2). ret2=(0, [0, 0])\n",
      "[2023-07-21 14:42:17][101] (0) ----> [599.093933, -6.745625, 32.0, 154.007331, -28.753658, 136.666534]\n",
      "[2023-07-21 14:42:17][96] Robot is already alive: False\n",
      "[2023-07-21 14:42:17][98] Move   0: [622.806396, -163.967102, 127.912399, 142.848462, -26.294638, 149.68763]\n",
      "[2023-07-21 14:42:17][67] set_position, code=0, connected=True, state=2, error=0, ret1=(0, 2). ret2=(0, [0, 0])\n",
      "[2023-07-21 14:42:17][101] (0) ----> [622.806274, -42.040253, 127.913002, 143.6278, -27.443762, 147.963486]\n",
      "[2023-07-21 14:42:17][96] Robot is already alive: False\n",
      "[2023-07-21 14:42:17][98] Move   0: [599.093811, -123.963943, 32, 150.007914, -24.515031, 145.567434]\n",
      "[2023-07-21 14:42:19][67] set_position, code=0, connected=True, state=2, error=0, ret1=(0, 2). ret2=(0, [0, 0])\n",
      "[2023-07-21 14:42:19][101] (0) ----> [599.093811, -123.963943, 32.0, 150.007914, -24.515031, 145.567434]\n",
      "[2023-07-21 14:42:19][96] Robot is already alive: False\n",
      "[2023-07-21 14:42:19][98] Move   0: [622.806396, -163.967102, 142.041367, 142.848462, -26.294638, 149.68763]\n",
      "[2023-07-21 14:42:19][67] set_position, code=0, connected=True, state=2, error=0, ret1=(0, 2). ret2=(0, [0, 0])\n",
      "[2023-07-21 14:42:19][101] (0) ----> [622.806396, -163.966507, 127.912399, 142.848462, -26.294638, 149.68763]\n",
      "[2023-07-21 14:42:19][96] Robot is already alive: False\n",
      "[2023-07-21 14:42:19][98] Move   0: [599.093811, -123.963943, 46.341187, 150.007914, -24.515031, 145.567434]\n",
      "[2023-07-21 14:42:19][67] set_position, code=0, connected=True, state=2, error=0, ret1=(0, 2). ret2=(0, [0, 0])\n",
      "[2023-07-21 14:42:19][101] (0) ----> [599.093811, -123.963943, 46.341187, 150.007914, -24.515031, 145.567434]\n",
      "[2023-07-21 14:42:20][96] Robot is already alive: False\n",
      "[2023-07-21 14:42:20][98] Move   0: [622.806274, -42.040241, 142.040878, 143.6278, -27.443762, 147.963486]\n",
      "[2023-07-21 14:42:20][67] set_position, code=0, connected=True, state=1, error=0, ret1=(0, 1). ret2=(0, [0, 0])\n",
      "[2023-07-21 14:42:20][101] (0) ----> [622.806396, -163.967102, 142.040756, 142.848462, -26.294638, 149.68763]\n",
      "[2023-07-21 14:42:20][96] Robot is already alive: False\n",
      "[2023-07-21 14:42:20][98] Move   0: [599.093872, -6.745587, 46.341251, 154.007331, -28.753658, 136.666534]\n",
      "[2023-07-21 14:42:22][67] set_position, code=0, connected=True, state=2, error=0, ret1=(0, 2). ret2=(0, [0, 0])\n",
      "[2023-07-21 14:42:22][101] (0) ----> [599.093872, -6.745587, 46.341251, 154.007331, -28.753658, 136.666534]\n"
     ]
    }
   ],
   "source": [
    "left_robot.linear_move([left_sharp_y_center], wait=False)\n",
    "right_robot.linear_move([right_sharp_y_center])\n",
    "    \n",
    "for i in range(3):\n",
    "\n",
    "    left_robot.linear_move([z(left_sharp_y_center_down, -i*2)], wait=False)\n",
    "    right_robot.linear_move([z(right_sharp_y_center_down, -i*2)])\n",
    "\n",
    "    left_robot.linear_move([z(left_sharp_y_back_down, -i*2)], wait=False)\n",
    "    right_robot.linear_move([z(right_sharp_y_back_down, -i*2)])\n",
    "\n",
    "    left_robot.linear_move([left_sharp_y_back], wait=False)\n",
    "    right_robot.linear_move([right_sharp_y_back])\n",
    "\n",
    "    time.sleep(0.5)\n",
    "\n",
    "    left_robot.linear_move([left_sharp_y_center], wait=False)\n",
    "    right_robot.linear_move([right_sharp_y_center])\n"
   ]
  },
  {
   "cell_type": "code",
   "execution_count": null,
   "id": "83d979b9-9474-4434-95dc-378afca90215",
   "metadata": {},
   "outputs": [],
   "source": []
  }
 ],
 "metadata": {
  "kernelspec": {
   "display_name": "Python 3 (ipykernel)",
   "language": "python",
   "name": "python3"
  },
  "language_info": {
   "codemirror_mode": {
    "name": "ipython",
    "version": 3
   },
   "file_extension": ".py",
   "mimetype": "text/x-python",
   "name": "python",
   "nbconvert_exporter": "python",
   "pygments_lexer": "ipython3",
   "version": "3.11.3"
  }
 },
 "nbformat": 4,
 "nbformat_minor": 5
}
